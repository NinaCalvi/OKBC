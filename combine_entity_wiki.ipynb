{
 "cells": [
  {
   "cell_type": "code",
   "execution_count": 2,
   "metadata": {
    "collapsed": true
   },
   "outputs": [],
   "source": [
    "import utils\n",
    "import argparse\n",
    "import logging\n",
    "import os\n",
    "import pickle\n",
    "import string\n",
    "import time\n",
    "\n",
    "import numpy as np\n",
    "import pandas as pd"
   ]
  },
  {
   "cell_type": "code",
   "execution_count": 9,
   "metadata": {
    "collapsed": true
   },
   "outputs": [],
   "source": [
    "data_repo_root=\"../data/fb15k/\"\n",
    "model_weights=\"dumps/fb15k237_distmult_dump_norm.pkl\"\n",
    "wiki_file=os.path.join(data_repo_root,\"mid2wikipedia.tsv\")\n",
    "orig_file=os.path.join(data_repo_root,\"entity_mid_name_type_typeid.txt\")\n",
    "intersection_file=os.path.join(data_repo_root,\"mid2wikipedia_cleaned.tsv\")"
   ]
  },
  {
   "cell_type": "code",
   "execution_count": 5,
   "metadata": {
    "collapsed": true
   },
   "outputs": [],
   "source": [
    "distmult_dump = utils.read_pkl(model_weights)\n",
    "# entity_names = utils.read_entity_names(os.path.join(\n",
    "#     data_root, \"mid2wikipedia.tsv\"),add_wiki=True)\n"
   ]
  },
  {
   "cell_type": "code",
   "execution_count": 12,
   "metadata": {
    "collapsed": true
   },
   "outputs": [],
   "source": [
    "def read_data(path):\n",
    "    mapping_name={}\n",
    "    mapping_url={}\n",
    "    with open(path,\"r\") as f:\n",
    "        for line in f:\n",
    "            line_arr=line.split(\"\\t\")\n",
    "            mapping_name[line_arr[0]]=line_arr[1]\n",
    "            mapping_url[line_arr[0]]=line_arr[2]\n",
    "    return mapping_name,mapping_url"
   ]
  },
  {
   "cell_type": "code",
   "execution_count": 13,
   "metadata": {
    "collapsed": true
   },
   "outputs": [],
   "source": [
    "mapping_name,mapping_url=read_data(wiki_file)"
   ]
  },
  {
   "cell_type": "code",
   "execution_count": 14,
   "metadata": {},
   "outputs": [
    {
     "name": "stdout",
     "output_type": "stream",
     "text": [
      "4388855\n"
     ]
    }
   ],
   "source": [
    "print(len(mapping_name))"
   ]
  },
  {
   "cell_type": "code",
   "execution_count": 15,
   "metadata": {
    "collapsed": true
   },
   "outputs": [],
   "source": [
    "reader=open(orig_file,\"r\")\n",
    "writer=open(intersection_file,\"w\")\n",
    "for line in reader:\n",
    "    line_arr=line.split(\"\\t\")\n",
    "    string=\"\"\n",
    "    if(line_arr[0] in mapping_name):\n",
    "        string=\"\\t\".join([line_arr[0],mapping_name[line_arr[0]],mapping_url[line_arr[0]]])\n",
    "    else:\n",
    "        string=\"\\t\".join([line_arr[0],line_arr[1],\"\"])\n",
    "    print(string,file=writer)\n",
    "reader.close()\n",
    "writer.close()"
   ]
  },
  {
   "cell_type": "code",
   "execution_count": null,
   "metadata": {
    "collapsed": true
   },
   "outputs": [],
   "source": []
  }
 ],
 "metadata": {
  "kernelspec": {
   "display_name": "Python 3",
   "language": "python",
   "name": "python3"
  },
  "language_info": {
   "codemirror_mode": {
    "name": "ipython",
    "version": 3
   },
   "file_extension": ".py",
   "mimetype": "text/x-python",
   "name": "python",
   "nbconvert_exporter": "python",
   "pygments_lexer": "ipython3",
   "version": "3.6.3"
  }
 },
 "nbformat": 4,
 "nbformat_minor": 2
}
