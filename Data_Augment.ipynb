{
 "cells": [
  {
   "cell_type": "code",
   "execution_count": 2,
   "metadata": {
    "collapsed": true
   },
   "outputs": [],
   "source": [
    "import pickle\n",
    "import os\n",
    "import numpy as np"
   ]
  },
  {
   "cell_type": "code",
   "execution_count": 3,
   "metadata": {
    "collapsed": true
   },
   "outputs": [],
   "source": [
    "def read_data(path):\n",
    "    data = []\n",
    "    with open(path,\"r\") as infile:\n",
    "        lines = infile.readlines()\n",
    "        data = [ line.strip().split() for line in lines]\n",
    "    return data"
   ]
  },
  {
   "cell_type": "code",
   "execution_count": 4,
   "metadata": {
    "collapsed": true
   },
   "outputs": [],
   "source": [
    "def augment_data(data):\n",
    "    new_data = []\n",
    "    for el in data:\n",
    "        l1 = el\n",
    "        l2 = [el[2],el[1]+'__INV',el[0]]\n",
    "        new_data.append(l1)\n",
    "        new_data.append(l2)\n",
    "    return new_data"
   ]
  },
  {
   "cell_type": "code",
   "execution_count": 5,
   "metadata": {
    "collapsed": true
   },
   "outputs": [],
   "source": [
    "def write_data(data,filename):\n",
    "    with open(filename,\"w\") as f:\n",
    "        for el in data:\n",
    "            f.write(' '.join(el)+'\\n')"
   ]
  },
  {
   "cell_type": "code",
   "execution_count": 6,
   "metadata": {
    "collapsed": true
   },
   "outputs": [],
   "source": [
    "train = read_data('../data/fb15k/train.txt')\n",
    "test = read_data('../data/fb15k/test.txt')\n",
    "valid = read_data('../data/fb15k/valid.txt')"
   ]
  },
  {
   "cell_type": "code",
   "execution_count": 7,
   "metadata": {
    "collapsed": true
   },
   "outputs": [],
   "source": [
    "write_data(augment_data(train),'../data/fb15k-inv/train.txt')\n",
    "write_data(augment_data(test),'../data/fb15k-inv/test.txt')\n",
    "write_data(augment_data(valid),'../data/fb15k-inv/valid.txt')"
   ]
  }
 ],
 "metadata": {
  "kernelspec": {
   "display_name": "Python 3",
   "language": "python",
   "name": "python3"
  },
  "language_info": {
   "codemirror_mode": {
    "name": "ipython",
    "version": 3
   },
   "file_extension": ".py",
   "mimetype": "text/x-python",
   "name": "python",
   "nbconvert_exporter": "python",
   "pygments_lexer": "ipython3",
   "version": "3.6.3"
  }
 },
 "nbformat": 4,
 "nbformat_minor": 2
}
