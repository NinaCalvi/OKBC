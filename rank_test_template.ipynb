{
 "cells": [
  {
   "cell_type": "code",
   "execution_count": null,
   "metadata": {},
   "outputs": [],
   "source": [
    "import pickle\n",
    "import os\n",
    "import numpy as np"
   ]
  },
  {
   "cell_type": "code",
   "execution_count": null,
   "metadata": {},
   "outputs": [],
   "source": [
    "def read_data(path):\n",
    "    data = []\n",
    "    with open(path,\"r\") as infile:\n",
    "        lines = infile.readlines()\n",
    "        data = [ line.strip().split() for line in lines]\n",
    "    return data"
   ]
  },
  {
   "cell_type": "code",
   "execution_count": null,
   "metadata": {},
   "outputs": [],
   "source": [
    "def map_data(data,mapped_entity,mapped_relation):\n",
    "    mapped_data=[]\n",
    "    for line in data:\n",
    "        mapped_data.append([mapped_entity[line[0]],mapped_relation[line[1]],mapped_entity[line[2]]])\n",
    "    return mapped_data"
   ]
  },
  {
   "cell_type": "code",
   "execution_count": null,
   "metadata": {},
   "outputs": [],
   "source": [
    "def read_entity_names(path):\n",
    "    entity_names = {}\n",
    "    with open(path,\"r\") as f:\n",
    "        lines = f.readlines()\n",
    "        for line in lines:\n",
    "            content = line.split()\n",
    "            if content[0] in entity_names:\n",
    "                raise \"Entity duplicated\"\n",
    "            entity_names[content[0]] = ' '.join(content[1:-2])\n",
    "    return entity_names"
   ]
  },
  {
   "cell_type": "code",
   "execution_count": null,
   "metadata": {},
   "outputs": [],
   "source": [
    "def read_pkl(filename):\n",
    "    with open(filename,\"rb\") as f:\n",
    "        pkl_dict = pickle.load(f)\n",
    "    return pkl_dict"
   ]
  },
  {
   "cell_type": "code",
   "execution_count": null,
   "metadata": {},
   "outputs": [],
   "source": [
    "def get_inverse_dict(mydict):\n",
    "    inverse_dict = {}\n",
    "    for k in mydict.keys():\n",
    "        if mydict[k] in inverse_dict:\n",
    "            raise \"Cannot Construct inverse dictionary, as function not one-one\"\n",
    "        inverse_dict[mydict[k]] = k\n",
    "    return inverse_dict"
   ]
  },
  {
   "cell_type": "code",
   "execution_count": null,
   "metadata": {},
   "outputs": [],
   "source": [
    "distmult_dump = read_pkl('../symbolic/distmult_dump_norm.pkl')\n",
    "test_data = read_data('../data/fb15k/test.txt')\n",
    "mapped_test_data = map_data(test_data,distmult_dump['entity_to_id'],distmult_dump['relation_to_id'])\n",
    "entity_names = read_entity_names('../data/fb15k/entity_mid_name_type_typeid.txt')"
   ]
  },
  {
   "cell_type": "code",
   "execution_count": null,
   "metadata": {},
   "outputs": [],
   "source": [
    "entity_inverse_map = get_inverse_dict(distmult_dump['entity_to_id'])\n",
    "relation_inverse_map = get_inverse_dict(distmult_dump['relation_to_id'])"
   ]
  },
  {
   "cell_type": "code",
   "execution_count": null,
   "metadata": {},
   "outputs": [],
   "source": [
    "import template_builder"
   ]
  },
  {
   "cell_type": "code",
   "execution_count": null,
   "metadata": {},
   "outputs": [],
   "source": [
    "_,template_objs = template_builder.template_obj_builder(\"../data/fb15k/\",\"../symbolic/distmult_dump_norm.pkl\",\n",
    "                                                      \"logs/25-10-2018-1930/\",None,\"distmult\",[5],True)"
   ]
  },
  {
   "cell_type": "code",
   "execution_count": null,
   "metadata": {},
   "outputs": [],
   "source": [
    "def get_header(t_type):\n",
    "    if(t_type==1 or t_type==2):\n",
    "        msg = 'most freq for '+('relation' if t_type==1 else 'entity')\n",
    "        return ['e1','r','e2','my_score',msg,'best_score','z_score']\n",
    "    elif(t_type==3 or t_type==4):\n",
    "        msg = 'best_'+('relation' if t_type==3 else 'entity')        \n",
    "        return ['e1','r','e2','my_score','my_'+msg,'best_score','best_answer','best_answer_'+msg,'z_score']\n",
    "    elif(t_type==5):\n",
    "        return ['e1','r','e2','my_score','my_best_e','my_best_r','best_score',\n",
    "                'best_answer','best_answer_best_e','best_answer_best_r','z_score']\n",
    "    else:\n",
    "        raise \"Invalid Type\""
   ]
  },
  {
   "cell_type": "code",
   "execution_count": null,
   "metadata": {},
   "outputs": [],
   "source": [
    "def get_word_exp(exp,t_type,entity_id_inverse_map,relation_id_inverse_map,entity_name_map):\n",
    "    exp_word_list = []\n",
    "    if(t_type==1 or t_type==2):\n",
    "        exp_word_list.append(exp[0])\n",
    "        exp_word_list.append(exp[1])\n",
    "        exp_word_list.append(entity_name_map.get(entity_id_inverse_map.get(exp[2],\"None\"),\"None\"))\n",
    "        exp_word_list.append(exp[3])\n",
    "    elif(t_type==3):\n",
    "        exp_word_list.append(exp[0])\n",
    "        exp_word_list.append(relation_inverse_map.get(exp[1],\"None\"))\n",
    "        exp_word_list.append(exp[2])\n",
    "        exp_word_list.append(entity_name_map.get(entity_id_inverse_map.get(exp[3],\"None\"),\"None\"))\n",
    "        exp_word_list.append(relation_inverse_map.get(exp[4],\"None\"))\n",
    "        exp_word_list.append(exp[5])\n",
    "    elif(t_type==4):\n",
    "        exp_word_list.append(exp[0])\n",
    "        exp_word_list.append(entity_name_map.get(entity_id_inverse_map.get(exp[1],\"None\"),\"None\"))\n",
    "        exp_word_list.append(exp[2])\n",
    "        exp_word_list.append(entity_name_map.get(entity_id_inverse_map.get(exp[3],\"None\"),\"None\"))\n",
    "        exp_word_list.append(entity_name_map.get(entity_id_inverse_map.get(exp[4],\"None\"),\"None\"))\n",
    "        exp_word_list.append(exp[5])\n",
    "    elif(t_type==5):\n",
    "        exp_word_list.append(exp[0])\n",
    "        exp_word_list.append(entity_name_map.get(entity_id_inverse_map.get(exp[1][0],\"None\"),\"None\"))\n",
    "        exp_word_list.append(relation_inverse_map.get(exp[1][1],\"None\"))\n",
    "        exp_word_list.append(exp[2])\n",
    "        exp_word_list.append(entity_name_map.get(entity_id_inverse_map.get(exp[3],\"None\"),\"None\"))\n",
    "        exp_word_list.append(entity_name_map.get(entity_id_inverse_map.get(exp[4][0],\"None\"),\"None\"))\n",
    "        exp_word_list.append(relation_inverse_map.get(exp[4][1],\"None\"))\n",
    "        exp_word_list.append(exp[5])\n",
    "    else:\n",
    "        raise \"Invalid Template ID\"\n",
    "    \n",
    "    return exp_word_list"
   ]
  },
  {
   "cell_type": "code",
   "execution_count": null,
   "metadata": {},
   "outputs": [],
   "source": [
    "def generate_exp(data,template_obj_list,entity_id_inverse_map,relation_id_inverse_map,entity_name_map):\n",
    "    word_exps = {}\n",
    "    for t in template_obj_list:\n",
    "        t_type = int(type(t).__name__[-1])\n",
    "        exp_list = [get_header(t_type)]\n",
    "        for triple in data:\n",
    "            temp_list = []\n",
    "            temp_list.append(entity_name_map[entity_id_inverse_map[triple[0]]])\n",
    "            temp_list.append(relation_id_inverse_map[triple[1]])\n",
    "            temp_list.append(entity_name_map[entity_id_inverse_map[triple[2]]])          \n",
    "            exp = t.get_explanation(triple)\n",
    "            temp_list.extend(get_word_exp(exp,t_type,entity_id_inverse_map,relation_id_inverse_map,entity_name_map))\n",
    "            exp_list.append(temp_list)\n",
    "        word_exps[t_type] = exp_list\n",
    "    return word_exps"
   ]
  },
  {
   "cell_type": "code",
   "execution_count": null,
   "metadata": {},
   "outputs": [],
   "source": [
    "word_exps = generate_exp(mapped_test_data,template_objs,entity_inverse_map,relation_inverse_map,entity_names)"
   ]
  },
  {
   "cell_type": "code",
   "execution_count": null,
   "metadata": {},
   "outputs": [],
   "source": [
    "def write_word_exps(word_exps,output_root_path):\n",
    "    for t_id in word_exps.keys():\n",
    "        with open(os.path.join(output_root_path,str(t_id)+\".txt\"),\"w\") as f:\n",
    "            for el in word_exps[t_id]:\n",
    "                f.write(' ; '.join(map(str,el))+'\\n')"
   ]
  },
  {
   "cell_type": "code",
   "execution_count": null,
   "metadata": {},
   "outputs": [],
   "source": [
    "write_word_exps(word_exps,\"logs/exp/\")"
   ]
  }
 ],
 "metadata": {
  "kernelspec": {
   "display_name": "Python 3",
   "language": "python",
   "name": "python3"
  },
  "language_info": {
   "codemirror_mode": {
    "name": "ipython",
    "version": 3
   },
   "file_extension": ".py",
   "mimetype": "text/x-python",
   "name": "python",
   "nbconvert_exporter": "python",
   "pygments_lexer": "ipython3",
   "version": "3.6.5"
  }
 },
 "nbformat": 4,
 "nbformat_minor": 2
}
