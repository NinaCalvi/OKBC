{
 "cells": [
  {
   "cell_type": "code",
   "execution_count": 1,
   "metadata": {
    "collapsed": true
   },
   "outputs": [],
   "source": [
    "import numpy as np\n",
    "import pickle\n",
    "import json\n",
    "import os\n",
    "import sys\n",
    "import copy\n",
    "import sklearn.preprocessing\n",
    "import models\n",
    "from sklearn.neighbors import NearestNeighbors\n",
    "import utils"
   ]
  },
  {
   "cell_type": "code",
   "execution_count": 2,
   "metadata": {
    "collapsed": true
   },
   "outputs": [],
   "source": [
    "DATA_DIR = \"../../data/fb15k/\"\n",
    "DUMP_FILE = \"../dumps/fb15k_distmult_dump_norm.pkl\"\n",
    "MODEL_TYPE = \"distmult\"\n",
    "mining_dir=\"mined\""
   ]
  },
  {
   "cell_type": "code",
   "execution_count": 3,
   "metadata": {
    "collapsed": true
   },
   "outputs": [],
   "source": [
    "train_data = utils.read_data(os.path.join(DATA_DIR,\"train.txt\"))\n",
    "# dev_data = read_data(os.path.join(DATA_DIR,\"valid.txt\"))\n",
    "# test_data = read_data(os.path.join(DATA_DIR,\"test.txt\"))"
   ]
  },
  {
   "cell_type": "code",
   "execution_count": 4,
   "metadata": {},
   "outputs": [
    {
     "data": {
      "text/plain": [
       "dict_keys(['tail_rel_type', 'entity_type', 'entity_to_id', 'head_rel_type', 'entity_real', 'rel_real', 'relation_to_id'])"
      ]
     },
     "execution_count": 4,
     "metadata": {},
     "output_type": "execute_result"
    }
   ],
   "source": [
    "dump=utils.load_pickle(DUMP_FILE)\n",
    "dump.keys()"
   ]
  },
  {
   "cell_type": "code",
   "execution_count": 5,
   "metadata": {
    "collapsed": true
   },
   "outputs": [],
   "source": [
    "model=models.TypedDM(DUMP_FILE)"
   ]
  },
  {
   "cell_type": "code",
   "execution_count": 9,
   "metadata": {},
   "outputs": [
    {
     "name": "stdout",
     "output_type": "stream",
     "text": [
      "483142\n"
     ]
    }
   ],
   "source": [
    "mapped_train_data = utils.map_data(train_data,dump)\n",
    "print(len(mapped_train_data))\n",
    "# mapped_dev_data = map_data(dev_data)\n",
    "# mapped_test_data = map_data(test_data)"
   ]
  },
  {
   "cell_type": "code",
   "execution_count": 12,
   "metadata": {},
   "outputs": [
    {
     "name": "stdout",
     "output_type": "stream",
     "text": [
      "14834 14903\n"
     ]
    }
   ],
   "source": [
    "e1_e2_r,e2_e1_r=utils.get_ent_ent_rel(mapped_train_data)\n",
    "print(len(e1_e2_r),len(e2_e1_r))"
   ]
  },
  {
   "cell_type": "code",
   "execution_count": 13,
   "metadata": {},
   "outputs": [
    {
     "name": "stdout",
     "output_type": "stream",
     "text": [
      "14952\n"
     ]
    }
   ],
   "source": [
    "entity_count=len(dump['entity_to_id'])\n",
    "print(entity_count)"
   ]
  },
  {
   "cell_type": "code",
   "execution_count": 14,
   "metadata": {
    "collapsed": true
   },
   "outputs": [],
   "source": [
    "def hard_simi(lis1,lis2):\n",
    "    s1=set(lis1)\n",
    "    s2=set(lis2)\n",
    "    return list(s1&s2)"
   ]
  },
  {
   "cell_type": "code",
   "execution_count": 15,
   "metadata": {
    "collapsed": true
   },
   "outputs": [],
   "source": [
    "def soft_simi(lis1,lis2,model):\n",
    "    list_r1r2=[]\n",
    "    \n",
    "    for r1 in lis1:\n",
    "        best_score=-1\n",
    "        best_rel=-1\n",
    "        for r2 in lis2:\n",
    "            score=model.get_relation_similarity(r1,r2)\n",
    "            if(score>best_score):\n",
    "                best_score=score\n",
    "                best_rel=r2\n",
    "        if(best_rel!=-1):\n",
    "            list_r1r2.append((r1,r2))\n",
    "    \n",
    "    return list_r1r2"
   ]
  },
  {
   "cell_type": "code",
   "execution_count": null,
   "metadata": {
    "collapsed": true
   },
   "outputs": [],
   "source": [
    "def explain_similarity_aux(e1,e2,model,flip,hard_match=True):\n",
    "    d1=look_up[e1]\n",
    "    d2=look_up[e2]\n",
    "    relevant_tuple=[]\n",
    "    \n",
    "    for e in d1:\n",
    "        if e not in d2:\n",
    "            continue\n",
    "        lis1=d1[e]\n",
    "        lis2=d2[e]\n",
    "        \n",
    "        if(flag):\n",
    "            relevant=hard_simi(lis1,lis2)\n",
    "        else:\n",
    "            relevant=soft_simi(lis1,lis2,model)\n",
    "    \n",
    "    for r1r2 in relevant:\n",
    "        if flip:\n",
    "            relevant_tuple.append(([e,r1r2[0],e1],[e,r1r2[1],e2]))\n",
    "        else:\n",
    "            relevant_tuple.append(([e1,r1r2[0],e],[e2,r1r2[1],e]))\n",
    "    \n",
    "    return relevant_tuple               "
   ]
  },
  {
   "cell_type": "code",
   "execution_count": null,
   "metadata": {
    "collapsed": true
   },
   "outputs": [],
   "source": []
  }
 ],
 "metadata": {
  "kernelspec": {
   "display_name": "Python 3",
   "language": "python",
   "name": "python3"
  },
  "language_info": {
   "codemirror_mode": {
    "name": "ipython",
    "version": 3
   },
   "file_extension": ".py",
   "mimetype": "text/x-python",
   "name": "python",
   "nbconvert_exporter": "python",
   "pygments_lexer": "ipython3",
   "version": "3.6.8"
  }
 },
 "nbformat": 4,
 "nbformat_minor": 2
}
