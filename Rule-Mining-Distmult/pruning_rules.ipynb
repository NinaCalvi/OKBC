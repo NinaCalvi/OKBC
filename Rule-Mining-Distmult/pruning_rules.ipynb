{
 "cells": [
  {
   "cell_type": "code",
   "execution_count": 167,
   "metadata": {
    "collapsed": true
   },
   "outputs": [],
   "source": [
    "import numpy as np\n",
    "import pickle\n",
    "import json\n",
    "import os\n",
    "import sys\n",
    "import copy\n",
    "import sklearn.preprocessing\n",
    "import models\n",
    "from sklearn.neighbors import NearestNeighbors\n",
    "import utils"
   ]
  },
  {
   "cell_type": "code",
   "execution_count": 168,
   "metadata": {
    "collapsed": true
   },
   "outputs": [],
   "source": [
    "DATA_DIR = \"../../data/fb15k/\"\n",
    "DUMP_FILE = \"../dumps/fb15k_distmult_dump_norm.pkl\"\n",
    "MODEL_TYPE = \"distmult\"\n",
    "mining_dir='mined'"
   ]
  },
  {
   "cell_type": "code",
   "execution_count": 169,
   "metadata": {},
   "outputs": [
    {
     "name": "stdout",
     "output_type": "stream",
     "text": [
      "dict_keys(['tail_rel_type', 'entity_type', 'entity_to_id', 'head_rel_type', 'entity_real', 'rel_real', 'relation_to_id'])\n"
     ]
    }
   ],
   "source": [
    "train_data = utils.read_data(os.path.join(DATA_DIR,\"train.txt\"))\n",
    "dump=utils.load_pickle(DUMP_FILE)\n",
    "print(dump.keys())"
   ]
  },
  {
   "cell_type": "code",
   "execution_count": 142,
   "metadata": {
    "collapsed": true
   },
   "outputs": [],
   "source": [
    "model=models.TypedDM(DUMP_FILE)\n",
    "mapped_train_data = utils.map_data(train_data,dump)"
   ]
  },
  {
   "cell_type": "code",
   "execution_count": 170,
   "metadata": {
    "collapsed": true
   },
   "outputs": [],
   "source": [
    "def prune_rules(rules_dict,set_len_body,thresh=0.1):\n",
    "    new_rules=[]\n",
    "    for body in rules_dict:\n",
    "        denom=set_len_body[body]\n",
    "#         print(denom)\n",
    "        for r in rules_dict[body]:\n",
    "            confidence=rules_dict[body][r]*1.0\n",
    "            confidence/=denom\n",
    "            if(confidence>thresh):\n",
    "                new_rules.append([body,r,confidence])\n",
    "    return new_rules"
   ]
  },
  {
   "cell_type": "code",
   "execution_count": 178,
   "metadata": {
    "collapsed": true
   },
   "outputs": [],
   "source": [
    "path1=\"./rules_1_5.pkl\"\n",
    "path2=\"./rules_2_5.pkl\"\n",
    "path1=os.path.join(mining_dir,path1)\n",
    "path2=os.path.join(mining_dir,path2)\n",
    "rules_dict_1=utils.load_pickle(path1)\n",
    "rules_dict_2=utils.load_pickle(path2)"
   ]
  },
  {
   "cell_type": "markdown",
   "metadata": {},
   "source": [
    "## Prune Length 1 Rules"
   ]
  },
  {
   "cell_type": "code",
   "execution_count": 179,
   "metadata": {
    "collapsed": true
   },
   "outputs": [],
   "source": [
    "count_r,set_r=utils.get_relation_dict(mapped_train_data)\n",
    "set_len_r={}\n",
    "for body in set_r:\n",
    "    set_len_r[body]=len(set_r[body])"
   ]
  },
  {
   "cell_type": "code",
   "execution_count": 180,
   "metadata": {},
   "outputs": [
    {
     "name": "stdout",
     "output_type": "stream",
     "text": [
      "3869\n"
     ]
    }
   ],
   "source": [
    "confidence=0.00\n",
    "pruned_rules_1=prune_rules(rules_dict_1,set_len_r,confidence)\n",
    "pruned_rules_1=sorted(pruned_rules_1,reverse=True,key = lambda x: x[2])\n",
    "print(len(pruned_rules_1))"
   ]
  },
  {
   "cell_type": "markdown",
   "metadata": {},
   "source": [
    "## Prune Length 2 Rules"
   ]
  },
  {
   "cell_type": "code",
   "execution_count": 174,
   "metadata": {
    "collapsed": true
   },
   "outputs": [],
   "source": [
    "path=\"set_r1_r2.pkl\"\n",
    "path=os.path.join(mining_dir,path)\n",
    "set_len_r1_r2=utils.load_pickle(path)"
   ]
  },
  {
   "cell_type": "code",
   "execution_count": 175,
   "metadata": {},
   "outputs": [
    {
     "name": "stdout",
     "output_type": "stream",
     "text": [
      "1836\n"
     ]
    }
   ],
   "source": [
    "confidence=0.00\n",
    "pruned_rules_2=prune_rules(rules_dict_2,set_len_r1_r2,confidence)\n",
    "pruned_rules_2=sorted(pruned_rules_2,reverse=True,key = lambda x: x[2])\n",
    "print(len(pruned_rules_2))"
   ]
  },
  {
   "cell_type": "code",
   "execution_count": 181,
   "metadata": {
    "collapsed": true
   },
   "outputs": [],
   "source": [
    "pruned_path=\"pruned_rules_1.pkl\"\n",
    "pruned_path=os.path.join(mining_dir,pruned_path)\n",
    "utils.dump_pickle(pruned_rules_1,pruned_path)"
   ]
  },
  {
   "cell_type": "code",
   "execution_count": 177,
   "metadata": {
    "collapsed": true
   },
   "outputs": [],
   "source": [
    "pruned_path=\"pruned_rules_2.pkl\"\n",
    "pruned_path=os.path.join(mining_dir,pruned_path)\n",
    "utils.dump_pickle(pruned_rules_2,pruned_path)"
   ]
  },
  {
   "cell_type": "code",
   "execution_count": null,
   "metadata": {
    "collapsed": true
   },
   "outputs": [],
   "source": []
  }
 ],
 "metadata": {
  "kernelspec": {
   "display_name": "Python 3",
   "language": "python",
   "name": "python3"
  },
  "language_info": {
   "codemirror_mode": {
    "name": "ipython",
    "version": 3
   },
   "file_extension": ".py",
   "mimetype": "text/x-python",
   "name": "python",
   "nbconvert_exporter": "python",
   "pygments_lexer": "ipython3",
   "version": "3.6.3"
  }
 },
 "nbformat": 4,
 "nbformat_minor": 2
}
