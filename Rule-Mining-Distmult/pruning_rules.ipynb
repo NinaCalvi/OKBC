{
 "cells": [
  {
   "cell_type": "code",
   "execution_count": 1,
   "metadata": {
    "collapsed": true
   },
   "outputs": [],
   "source": [
    "import numpy as np\n",
    "import pickle\n",
    "import json\n",
    "import os\n",
    "import sys\n",
    "import copy\n",
    "import sklearn.preprocessing\n",
    "import models\n",
    "from sklearn.neighbors import NearestNeighbors\n",
    "import utils"
   ]
  },
  {
   "cell_type": "code",
   "execution_count": 2,
   "metadata": {
    "collapsed": true
   },
   "outputs": [],
   "source": [
    "DATA_DIR = \"../../data/fb15k/\"\n",
    "DUMP_FILE = \"../dumps/fb15k_distmult_dump_norm.pkl\"\n",
    "MODEL_TYPE = \"distmult\""
   ]
  },
  {
   "cell_type": "code",
   "execution_count": 5,
   "metadata": {},
   "outputs": [
    {
     "name": "stdout",
     "output_type": "stream",
     "text": [
      "dict_keys(['tail_rel_type', 'entity_type', 'entity_to_id', 'head_rel_type', 'entity_real', 'rel_real', 'relation_to_id'])\n"
     ]
    }
   ],
   "source": [
    "train_data = utils.read_data(os.path.join(DATA_DIR,\"train.txt\"))\n",
    "dump=utils.load_pickle(DUMP_FILE)\n",
    "print(dump.keys())"
   ]
  },
  {
   "cell_type": "code",
   "execution_count": 6,
   "metadata": {
    "collapsed": true
   },
   "outputs": [],
   "source": [
    "model=models.TypedDM(DUMP_FILE)\n",
    "mapped_train_data = utils.map_data(train_data,dump)"
   ]
  },
  {
   "cell_type": "code",
   "execution_count": 19,
   "metadata": {
    "collapsed": true
   },
   "outputs": [],
   "source": [
    "def prune_rules(rules_dict,set_len_body,thresh=0.1):\n",
    "    new_rules=[]\n",
    "    for body in rules_dict:\n",
    "        denom=set_len_body[body]\n",
    "        for r in rules_dict[body]:\n",
    "            confidence=rules_dict[body][r]*1.0\n",
    "            confidence/=denom\n",
    "            if(confidence>thresh):\n",
    "                new_rules.append([body,r,confidence])\n",
    "    return new_rules"
   ]
  },
  {
   "cell_type": "code",
   "execution_count": 32,
   "metadata": {
    "collapsed": true
   },
   "outputs": [],
   "source": [
    "rules_dict_1=utils.load_pickle(\"./rules_1.pkl\")\n",
    "rules_dict_2=utils.load_pickle(\"./rules_2.pkl\")"
   ]
  },
  {
   "cell_type": "markdown",
   "metadata": {},
   "source": [
    "## Prune Length 1 Rules"
   ]
  },
  {
   "cell_type": "code",
   "execution_count": 33,
   "metadata": {
    "collapsed": true
   },
   "outputs": [],
   "source": [
    "count_r,set_r=utils.get_relation_dict(mapped_train_data)\n",
    "set_len_r={}\n",
    "for body in set_r:\n",
    "    set_len_r[body]=len(set_r[body])"
   ]
  },
  {
   "cell_type": "code",
   "execution_count": 48,
   "metadata": {},
   "outputs": [
    {
     "name": "stdout",
     "output_type": "stream",
     "text": [
      "30\n"
     ]
    }
   ],
   "source": [
    "confidence=0.01\n",
    "pruned_rules_1=prune_rules(rules_dict_1,set_len_r,confidence)\n",
    "pruned_rules_1=sorted(pruned_rules_1,reverse=True,key = lambda x: x[2])\n",
    "print(len(pruned_rules_1))"
   ]
  },
  {
   "cell_type": "markdown",
   "metadata": {},
   "source": [
    "## Prune Length 2 Rules"
   ]
  },
  {
   "cell_type": "code",
   "execution_count": 49,
   "metadata": {
    "collapsed": true
   },
   "outputs": [],
   "source": [
    "set_len_r1_r2=utils.load_pickle(\"./set_r1_r2.pkl\")"
   ]
  },
  {
   "cell_type": "code",
   "execution_count": 50,
   "metadata": {},
   "outputs": [
    {
     "name": "stdout",
     "output_type": "stream",
     "text": [
      "2289\n"
     ]
    }
   ],
   "source": [
    "confidence=0.01\n",
    "pruned_rules_2=prune_rules(rules_dict_2,set_len_r1_r2,confidence)\n",
    "pruned_rules_2=sorted(pruned_rules_2,reverse=True,key = lambda x: x[2])\n",
    "print(len(pruned_rules_2))"
   ]
  },
  {
   "cell_type": "code",
   "execution_count": 51,
   "metadata": {
    "collapsed": true
   },
   "outputs": [],
   "source": [
    "utils.dump_pickle(pruned_rules_1,\"pruned_rules_1.pkl\")\n",
    "utils.dump_pickle(pruned_rules_1,\"pruned_rules_2.pkl\")"
   ]
  }
 ],
 "metadata": {
  "kernelspec": {
   "display_name": "Python 3",
   "language": "python",
   "name": "python3"
  },
  "language_info": {
   "codemirror_mode": {
    "name": "ipython",
    "version": 3
   },
   "file_extension": ".py",
   "mimetype": "text/x-python",
   "name": "python",
   "nbconvert_exporter": "python",
   "pygments_lexer": "ipython3",
   "version": "3.6.3"
  }
 },
 "nbformat": 4,
 "nbformat_minor": 2
}
