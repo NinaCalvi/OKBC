{
 "cells": [
  {
   "cell_type": "code",
   "execution_count": 1,
   "metadata": {
    "collapsed": true
   },
   "outputs": [],
   "source": [
    "import numpy as np\n",
    "import pickle\n",
    "import json\n",
    "import os\n",
    "import sys\n",
    "import copy\n",
    "import sklearn.preprocessing\n",
    "import models\n",
    "from sklearn.neighbors import NearestNeighbors\n",
    "import utils\n",
    "from collections import Counter\n",
    "import matplotlib.pyplot as plt"
   ]
  },
  {
   "cell_type": "code",
   "execution_count": 2,
   "metadata": {
    "collapsed": true
   },
   "outputs": [],
   "source": [
    "DATA_DIR = \"../../data/fb15k/\"\n",
    "DUMP_FILE = \"../dumps/fb15k_distmult_dump_norm.pkl\"\n",
    "MODEL_TYPE = \"distmult\"\n",
    "mining_dir=\"mined\""
   ]
  },
  {
   "cell_type": "code",
   "execution_count": 3,
   "metadata": {
    "collapsed": true
   },
   "outputs": [],
   "source": [
    "train_data = utils.read_data(os.path.join(DATA_DIR,\"train.txt\"))\n",
    "# dev_data = read_data(os.path.join(DATA_DIR,\"valid.txt\"))\n",
    "# test_data = read_data(os.path.join(DATA_DIR,\"test.txt\"))"
   ]
  },
  {
   "cell_type": "code",
   "execution_count": 4,
   "metadata": {},
   "outputs": [
    {
     "data": {
      "text/plain": [
       "dict_keys(['tail_rel_type', 'entity_type', 'entity_to_id', 'head_rel_type', 'entity_real', 'rel_real', 'relation_to_id'])"
      ]
     },
     "execution_count": 4,
     "metadata": {},
     "output_type": "execute_result"
    }
   ],
   "source": [
    "dump=utils.load_pickle(DUMP_FILE)\n",
    "dump.keys()"
   ]
  },
  {
   "cell_type": "code",
   "execution_count": 5,
   "metadata": {
    "collapsed": true
   },
   "outputs": [],
   "source": [
    "model=models.TypedDM(DUMP_FILE)"
   ]
  },
  {
   "cell_type": "code",
   "execution_count": 6,
   "metadata": {
    "collapsed": true
   },
   "outputs": [],
   "source": [
    "mapped_train_data = utils.map_data(train_data,dump)\n",
    "# mapped_dev_data = map_data(dev_data)\n",
    "# mapped_test_data = map_data(test_data)"
   ]
  },
  {
   "cell_type": "code",
   "execution_count": 7,
   "metadata": {
    "collapsed": true
   },
   "outputs": [],
   "source": [
    "entity_to_rel=utils.get_ent_to_rel(mapped_train_data)"
   ]
  },
  {
   "cell_type": "markdown",
   "metadata": {},
   "source": [
    "# Length 1 Rules"
   ]
  },
  {
   "cell_type": "code",
   "execution_count": 8,
   "metadata": {},
   "outputs": [
    {
     "name": "stdout",
     "output_type": "stream",
     "text": [
      "1345\n",
      "1345 1345\n"
     ]
    }
   ],
   "source": [
    "relation_count=len(dump['relation_to_id'])\n",
    "nbrs = NearestNeighbors(n_neighbors=relation_count,metric=model.similarity_relembedding).fit(model.relation_matrix)\n",
    "print(relation_count)\n",
    "count_r,set_r=utils.get_relation_dict(mapped_train_data)\n",
    "print(len(count_r),len(set_r))\n",
    "support=5"
   ]
  },
  {
   "cell_type": "code",
   "execution_count": null,
   "metadata": {
    "collapsed": true,
    "scrolled": false
   },
   "outputs": [],
   "source": [
    "rules_dict_1={}\n",
    "count=0\n",
    "count2=0\n",
    "for r1 in range(relation_count):\n",
    "    if(r1%100==0):\n",
    "        print(r1)\n",
    "    if(count_r[r1]<support):\n",
    "        continue\n",
    "    combined_rel=model.relation_matrix[r1].reshape((1,-1))\n",
    "    distances, indices = nbrs.kneighbors(combined_rel)\n",
    "    indices=indices[0]\n",
    "    bool_arr=[False for i in range(relation_count)]\n",
    "    for ind in indices:\n",
    "        if ind!=r1:\n",
    "            bool_arr[ind]=True\n",
    "    cur_dict={}\n",
    "    for pair_e1e2 in set_r[r1]:\n",
    "        if pair_e1e2 not in entity_to_rel:\n",
    "            print(\"Strange\")\n",
    "            continue\n",
    "        for r2 in entity_to_rel[pair_e1e2]:\n",
    "            count+=1\n",
    "            if bool_arr[r2]==False:\n",
    "                continue\n",
    "            if r2 not in cur_dict:\n",
    "                count2+=1\n",
    "                cur_dict[r2]=0\n",
    "            cur_dict[r2]+=1\n",
    "    rules_dict_1[r1]=cur_dict            "
   ]
  },
  {
   "cell_type": "code",
   "execution_count": null,
   "metadata": {
    "collapsed": true,
    "scrolled": true
   },
   "outputs": [],
   "source": [
    "print(len(rules_dict_1))\n",
    "print(count,count2)"
   ]
  },
  {
   "cell_type": "markdown",
   "metadata": {},
   "source": [
    "# Length 2 Rules"
   ]
  },
  {
   "cell_type": "code",
   "execution_count": 9,
   "metadata": {
    "collapsed": true
   },
   "outputs": [],
   "source": [
    "index_head=utils.get_head_index(mapped_train_data)\n",
    "count_r1_r2,set_r1_r2=utils.get_r1r2_count(mapped_train_data,index_head,get_set=True)"
   ]
  },
  {
   "cell_type": "code",
   "execution_count": 10,
   "metadata": {
    "collapsed": true
   },
   "outputs": [],
   "source": [
    "nbrs = NearestNeighbors(n_neighbors=100,metric=model.similarity_relembedding).fit(model.relation_matrix)\n",
    "support=5"
   ]
  },
  {
   "cell_type": "code",
   "execution_count": null,
   "metadata": {
    "collapsed": true,
    "scrolled": true
   },
   "outputs": [],
   "source": [
    "count=0\n",
    "rules_dict={}\n",
    "for r1 in range(relation_count):\n",
    "    if(r1%100==0):\n",
    "        print(r1)\n",
    "    for r2 in range(relation_count):\n",
    "        if(r1==r2):\n",
    "            continue\n",
    "        pair=(r1,r2)\n",
    "        if(pair not in count_r1_r2 or count_r1_r2[pair]<support):\n",
    "            continue\n",
    "        \n",
    "        combined_rel=model.dot_relation(r1,r2).reshape((1,-1))\n",
    "        distances, indices = nbrs.kneighbors(combined_rel)\n",
    "        \n",
    "        bool_arr=[False for i in range(relation_count)]\n",
    "        for ind in indices[0]:\n",
    "            if ind!=r1 and ind!=r2:\n",
    "                bool_arr[ind]=True\n",
    "        \n",
    "        if bool_arr[r1]==True or bool_arr[r2]==True:\n",
    "            print(\"Strange\")\n",
    "            print(indices[0],r1,r2)\n",
    "        \n",
    "        cur_dict={}\n",
    "        entpair_lis=list(set_r1_r2[pair])\n",
    "        for pair_e1e2 in entpair_lis:\n",
    "            if pair_e1e2 not in entity_to_rel:\n",
    "                continue\n",
    "            for r in entity_to_rel[pair_e1e2]:\n",
    "                if(bool_arr[r]==False):\n",
    "                    continue\n",
    "                if r not in cur_dict:\n",
    "                    count+=1\n",
    "                    cur_dict[r]=0\n",
    "                cur_dict[r]+=1\n",
    "        rules_dict[pair]=cur_dict\n",
    "        "
   ]
  },
  {
   "cell_type": "code",
   "execution_count": 11,
   "metadata": {},
   "outputs": [
    {
     "ename": "NameError",
     "evalue": "name 'rules_dict' is not defined",
     "output_type": "error",
     "traceback": [
      "\u001b[0;31m---------------------------------------------------------------------------\u001b[0m",
      "\u001b[0;31mNameError\u001b[0m                                 Traceback (most recent call last)",
      "\u001b[0;32m<ipython-input-11-677bfe0b0181>\u001b[0m in \u001b[0;36m<module>\u001b[0;34m()\u001b[0m\n\u001b[0;32m----> 1\u001b[0;31m \u001b[0mprint\u001b[0m\u001b[0;34m(\u001b[0m\u001b[0mlen\u001b[0m\u001b[0;34m(\u001b[0m\u001b[0mrules_dict\u001b[0m\u001b[0;34m)\u001b[0m\u001b[0;34m)\u001b[0m\u001b[0;34m\u001b[0m\u001b[0m\n\u001b[0m\u001b[1;32m      2\u001b[0m \u001b[0mprint\u001b[0m\u001b[0;34m(\u001b[0m\u001b[0mrelation_count\u001b[0m\u001b[0;34m)\u001b[0m\u001b[0;34m\u001b[0m\u001b[0m\n\u001b[1;32m      3\u001b[0m \u001b[0mprint\u001b[0m\u001b[0;34m(\u001b[0m\u001b[0mcount\u001b[0m\u001b[0;34m)\u001b[0m\u001b[0;34m\u001b[0m\u001b[0m\n",
      "\u001b[0;31mNameError\u001b[0m: name 'rules_dict' is not defined"
     ]
    }
   ],
   "source": [
    "print(len(rules_dict))\n",
    "print(relation_count)\n",
    "print(count)"
   ]
  },
  {
   "cell_type": "markdown",
   "metadata": {},
   "source": [
    "# Saving rules"
   ]
  },
  {
   "cell_type": "code",
   "execution_count": null,
   "metadata": {
    "collapsed": true
   },
   "outputs": [],
   "source": [
    "path1='rules_1_5.pkl'\n",
    "path1=os.path.join(mining_dir,path1)\n",
    "utils.dump_pickle(rules_dict_1,path1)"
   ]
  },
  {
   "cell_type": "code",
   "execution_count": null,
   "metadata": {
    "collapsed": true
   },
   "outputs": [],
   "source": [
    "path2='rules_2_5.pkl'\n",
    "path2=os.path.join(mining_dir,path2)\n",
    "utils.dump_pickle(rules_dict,path2)"
   ]
  },
  {
   "cell_type": "markdown",
   "metadata": {},
   "source": [
    "## Saving auxilary data for rule2"
   ]
  },
  {
   "cell_type": "code",
   "execution_count": null,
   "metadata": {
    "collapsed": true
   },
   "outputs": [],
   "source": [
    "path='set_r1_r2.pkl'\n",
    "path=os.path.join(mining_dir,path)\n",
    "set_len_r1_r2={}\n",
    "for r1r2 in set_r1_r2:\n",
    "    set_len_r1_r2[r1r2]=len(set_r1_r2[r1r2])\n",
    "utils.dump_pickle(set_len_r1_r2,path)"
   ]
  },
  {
   "cell_type": "code",
   "execution_count": 10,
   "metadata": {},
   "outputs": [
    {
     "name": "stdout",
     "output_type": "stream",
     "text": [
      "56863\n"
     ]
    }
   ],
   "source": [
    "print(len(count_r1_r2))"
   ]
  },
  {
   "cell_type": "markdown",
   "metadata": {},
   "source": [
    "## Analyse 3 Rules"
   ]
  },
  {
   "cell_type": "code",
   "execution_count": null,
   "metadata": {
    "collapsed": true
   },
   "outputs": [],
   "source": [
    "min_sup=5\n",
    "confidence=0"
   ]
  },
  {
   "cell_type": "code",
   "execution_count": null,
   "metadata": {},
   "outputs": [],
   "source": [
    "rules_3=[]\n",
    "count=0\n",
    "count_dict={}\n",
    "\n",
    "for r1r2 in set_r1_r2:\n",
    "#     prit(r1r2)\n",
    "    count+=1\n",
    "    if(count%100==0):\n",
    "        print(count)\n",
    "    for e1e2 in set_r1_r2[r1r2]:\n",
    "        e1=e1e2[0]\n",
    "        e2=e1e2[1]\n",
    "        # e1-r1-e-r2-e2\n",
    "        count_conf_dict={}\n",
    "#         count_dict={}\n",
    "        \n",
    "        # e1-r1-e-r2-e2-r3-e3\n",
    "        if e2 not in index_head:\n",
    "            continue\n",
    "        for r3e3 in index_head[e2]:\n",
    "            e3=r3e3[1]\n",
    "            triplet=(r1r2[0],r1r2[1],r3e3[0])\n",
    "            if triplet not in count_dict:\n",
    "                count_dict[triplet]=0\n",
    "                count_conf_dict[triplet]={}\n",
    "            count_dict[triplet]+=1\n",
    "            \n",
    "#             pair=(e1,e3)\n",
    "#             if pair not in entity_to_rel:\n",
    "#                 continue\n",
    "#             for rel in entity_to_rel[pair]:\n",
    "#                 if rel not in count_conf_dict[triplet]:\n",
    "#                     count_conf_dict[triplet][rel]=0\n",
    "#                 count_conf_dict[triplet][rel]+=1\n",
    "        \n",
    "#         for r1r2r3,supp in count_dict.items():\n",
    "#             if supp < min_sup:\n",
    "#                 continue\n",
    "#             for r4,conf in count_conf_dict[r1r2r3].items():\n",
    "#                 rules_3.append((r1r2r3,r4,supp,conf))           \n",
    "        "
   ]
  },
  {
   "cell_type": "code",
   "execution_count": null,
   "metadata": {},
   "outputs": [],
   "source": [
    "print(len(count_dict))"
   ]
  },
  {
   "cell_type": "code",
   "execution_count": null,
   "metadata": {},
   "outputs": [],
   "source": [
    "value_list=list(count_dict.values())\n",
    "cnt=Counter(value_list)\n",
    "cnt=sorted(cnt.items())\n",
    "array=np.array(cnt)\n",
    "print(array.shape)"
   ]
  },
  {
   "cell_type": "code",
   "execution_count": null,
   "metadata": {},
   "outputs": [],
   "source": [
    "plt.plot(array[:,1])\n",
    "plt.show()"
   ]
  },
  {
   "cell_type": "code",
   "execution_count": null,
   "metadata": {},
   "outputs": [],
   "source": [
    "temp=np.cumsum(array[:,1])/np.sum(array[:,1])\n",
    "print(array[temp[:]<0.5],temp[temp[:]<0.5])"
   ]
  },
  {
   "cell_type": "code",
   "execution_count": null,
   "metadata": {
    "collapsed": true
   },
   "outputs": [],
   "source": []
  },
  {
   "cell_type": "code",
   "execution_count": null,
   "metadata": {
    "collapsed": true
   },
   "outputs": [],
   "source": []
  },
  {
   "cell_type": "markdown",
   "metadata": {},
   "source": [
    "## Rules Length 3"
   ]
  },
  {
   "cell_type": "code",
   "execution_count": null,
   "metadata": {
    "collapsed": true
   },
   "outputs": [],
   "source": [
    "min_sup=10\n",
    "confidence=0"
   ]
  },
  {
   "cell_type": "code",
   "execution_count": null,
   "metadata": {},
   "outputs": [
    {
     "name": "stdout",
     "output_type": "stream",
     "text": [
      "100\n",
      "935260\n",
      "200\n",
      "3023981\n",
      "300\n",
      "4401260\n",
      "400\n",
      "4960717\n",
      "500\n",
      "6439043\n",
      "600\n",
      "6731787\n",
      "700\n",
      "9434380\n",
      "800\n",
      "11211250\n",
      "900\n",
      "11717621\n",
      "1000\n",
      "13017856\n",
      "1100\n",
      "14375488\n",
      "1200\n",
      "14696661\n",
      "1300\n",
      "15053997\n"
     ]
    }
   ],
   "source": [
    "rules_3=[]\n",
    "count=0\n",
    "\n",
    "for r1r2 in set_r1_r2:\n",
    "#     prit(r1r2)\n",
    "    count+=1\n",
    "    if(count%100==0):\n",
    "        print(count)\n",
    "        print(len(rules_3))\n",
    "    for e1e2 in set_r1_r2[r1r2]:\n",
    "        e1=e1e2[0]\n",
    "        e2=e1e2[1]\n",
    "        # e1-r1-e-r2-e2\n",
    "        count_conf_dict={}\n",
    "        count_dict={}\n",
    "        \n",
    "        # e1-r1-e-r2-e2-r3-e3\n",
    "        if e2 not in index_head:\n",
    "            continue\n",
    "        for r3e3 in index_head[e2]:\n",
    "            e3=r3e3[1]\n",
    "            triplet=(r1r2[0],r1r2[1],r3e3[0])\n",
    "            if triplet not in count_dict:\n",
    "                count_dict[triplet]=0\n",
    "                count_conf_dict[triplet]={}\n",
    "            count_dict[triplet]+=1\n",
    "            \n",
    "            pair=(e1,e3)\n",
    "            if pair not in entity_to_rel:\n",
    "                continue\n",
    "            for rel in entity_to_rel[pair]:\n",
    "                if rel not in count_conf_dict[triplet]:\n",
    "                    count_conf_dict[triplet][rel]=0\n",
    "                count_conf_dict[triplet][rel]+=1\n",
    "        \n",
    "        for r1r2r3,supp in count_dict.items():\n",
    "            if supp < min_sup:\n",
    "                continue\n",
    "            for r4,conf in count_conf_dict[r1r2r3].items():\n",
    "                rules_3.append((r1r2r3,r4,supp,conf))           \n",
    "        "
   ]
  },
  {
   "cell_type": "code",
   "execution_count": null,
   "metadata": {
    "collapsed": true
   },
   "outputs": [],
   "source": []
  }
 ],
 "metadata": {
  "kernelspec": {
   "display_name": "Python 3",
   "language": "python",
   "name": "python3"
  },
  "language_info": {
   "codemirror_mode": {
    "name": "ipython",
    "version": 3
   },
   "file_extension": ".py",
   "mimetype": "text/x-python",
   "name": "python",
   "nbconvert_exporter": "python",
   "pygments_lexer": "ipython3",
   "version": "3.6.3"
  }
 },
 "nbformat": 4,
 "nbformat_minor": 2
}
