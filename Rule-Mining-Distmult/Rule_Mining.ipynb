{
 "cells": [
  {
   "cell_type": "code",
   "execution_count": 3,
   "metadata": {
    "collapsed": true
   },
   "outputs": [],
   "source": [
    "import numpy as np\n",
    "import pickle\n",
    "import json\n",
    "import os\n",
    "import sys\n",
    "import copy\n",
    "import sklearn.preprocessing\n",
    "import models\n",
    "from sklearn.neighbors import NearestNeighbors\n",
    "import utils\n",
    "from collections import Counter\n",
    "import matplotlib.pyplot as plt"
   ]
  },
  {
   "cell_type": "code",
   "execution_count": 4,
   "metadata": {},
   "outputs": [
    {
     "data": {
      "text/plain": [
       "0"
      ]
     },
     "execution_count": 4,
     "metadata": {},
     "output_type": "execute_result"
    }
   ],
   "source": [
    "data='fb15k'\n",
    "DATA_DIR = \"../../data/\"+data\n",
    "DUMP_FILE = \"../dumps/\"+data+\"_distmult_dump_norm.pkl\"\n",
    "MODEL_TYPE = data\n",
    "mining_dir=data+\"_low_thresh\"\n",
    "os.system(\"mkdir -p \"+mining_dir)"
   ]
  },
  {
   "cell_type": "code",
   "execution_count": 5,
   "metadata": {
    "collapsed": true
   },
   "outputs": [],
   "source": [
    "train_data = utils.read_data(os.path.join(DATA_DIR,\"train.txt\"))\n",
    "# dev_data = read_data(os.path.join(DATA_DIR,\"valid.txt\"))\n",
    "# test_data = read_data(os.path.join(DATA_DIR,\"test.txt\"))"
   ]
  },
  {
   "cell_type": "code",
   "execution_count": 6,
   "metadata": {},
   "outputs": [
    {
     "data": {
      "text/plain": [
       "dict_keys(['tail_rel_type', 'entity_type', 'entity_to_id', 'head_rel_type', 'entity_real', 'rel_real', 'relation_to_id'])"
      ]
     },
     "execution_count": 6,
     "metadata": {},
     "output_type": "execute_result"
    }
   ],
   "source": [
    "dump=utils.load_pickle(DUMP_FILE)\n",
    "dump.keys()"
   ]
  },
  {
   "cell_type": "code",
   "execution_count": 7,
   "metadata": {
    "collapsed": true
   },
   "outputs": [],
   "source": [
    "model=models.TypedDM(DUMP_FILE)"
   ]
  },
  {
   "cell_type": "code",
   "execution_count": 8,
   "metadata": {
    "collapsed": true
   },
   "outputs": [],
   "source": [
    "mapped_train_data = utils.map_data(train_data,dump)\n",
    "# mapped_dev_data = map_data(dev_data)\n",
    "# mapped_test_data = map_data(test_data)"
   ]
  },
  {
   "cell_type": "code",
   "execution_count": 9,
   "metadata": {
    "collapsed": true
   },
   "outputs": [],
   "source": [
    "entity_to_rel=utils.get_ent_to_rel(mapped_train_data)"
   ]
  },
  {
   "cell_type": "code",
   "execution_count": 10,
   "metadata": {
    "collapsed": true
   },
   "outputs": [],
   "source": [
    "index_head=utils.get_head_index(mapped_train_data)"
   ]
  },
  {
   "cell_type": "markdown",
   "metadata": {},
   "source": [
    "# Length 1 Rules"
   ]
  },
  {
   "cell_type": "code",
   "execution_count": 9,
   "metadata": {},
   "outputs": [
    {
     "name": "stdout",
     "output_type": "stream",
     "text": [
      "1345\n",
      "1345 1345\n"
     ]
    }
   ],
   "source": [
    "relation_count=len(dump['relation_to_id'])\n",
    "nbrs = NearestNeighbors(n_neighbors=relation_count,metric=model.similarity_relembedding).fit(model.relation_matrix)\n",
    "print(relation_count)\n",
    "count_r,set_r=utils.get_relation_dict(mapped_train_data)\n",
    "print(len(count_r),len(set_r))\n",
    "support=1"
   ]
  },
  {
   "cell_type": "code",
   "execution_count": 10,
   "metadata": {
    "scrolled": false
   },
   "outputs": [
    {
     "name": "stdout",
     "output_type": "stream",
     "text": [
      "0\n",
      "100\n",
      "200\n",
      "300\n",
      "400\n",
      "500\n",
      "600\n",
      "700\n",
      "800\n",
      "900\n",
      "1000\n",
      "1100\n",
      "1200\n",
      "1300\n"
     ]
    }
   ],
   "source": [
    "rules_dict_1={}\n",
    "count=0\n",
    "count2=0\n",
    "for r1 in range(relation_count):\n",
    "    if(r1%100==0):\n",
    "        print(r1)\n",
    "    if(count_r[r1]<support):\n",
    "        continue\n",
    "    combined_rel=model.relation_matrix[r1].reshape((1,-1))\n",
    "    distances, indices = nbrs.kneighbors(combined_rel)\n",
    "    indices=indices[0]\n",
    "    bool_arr=[False for i in range(relation_count)]\n",
    "    for ind in indices:\n",
    "        if ind!=r1:\n",
    "            bool_arr[ind]=True\n",
    "    cur_dict={}\n",
    "    for pair_e1e2 in set_r[r1]:\n",
    "        if pair_e1e2 not in entity_to_rel:\n",
    "            print(\"Strange\")\n",
    "            continue\n",
    "        for r2 in entity_to_rel[pair_e1e2]:\n",
    "            count+=1\n",
    "            if bool_arr[r2]==False:\n",
    "                continue\n",
    "            if r2 not in cur_dict:\n",
    "                count2+=1\n",
    "                cur_dict[r2]=0\n",
    "            cur_dict[r2]+=1\n",
    "    rules_dict_1[r1]=cur_dict            "
   ]
  },
  {
   "cell_type": "code",
   "execution_count": 11,
   "metadata": {
    "scrolled": true
   },
   "outputs": [
    {
     "name": "stdout",
     "output_type": "stream",
     "text": [
      "1345\n",
      "733548 4296\n"
     ]
    }
   ],
   "source": [
    "print(len(rules_dict_1))\n",
    "print(count,count2)"
   ]
  },
  {
   "cell_type": "markdown",
   "metadata": {},
   "source": [
    "# Length 2 Rules"
   ]
  },
  {
   "cell_type": "code",
   "execution_count": 11,
   "metadata": {},
   "outputs": [
    {
     "name": "stdout",
     "output_type": "stream",
     "text": [
      "CPU times: user 1min 55s, sys: 5.31 s, total: 2min\n",
      "Wall time: 2min 3s\n"
     ]
    }
   ],
   "source": [
    "%time count_r1_r2,set_r1_r2=utils.get_r1r2_count(mapped_train_data,index_head,get_set=True)"
   ]
  },
  {
   "cell_type": "code",
   "execution_count": 13,
   "metadata": {
    "collapsed": true
   },
   "outputs": [],
   "source": [
    "nbrs = NearestNeighbors(n_neighbors=500,metric=model.similarity_relembedding).fit(model.relation_matrix)\n",
    "support=1"
   ]
  },
  {
   "cell_type": "code",
   "execution_count": 14,
   "metadata": {
    "scrolled": true
   },
   "outputs": [
    {
     "name": "stdout",
     "output_type": "stream",
     "text": [
      "0\n",
      "100\n",
      "200\n",
      "300\n",
      "400\n",
      "500\n",
      "600\n",
      "700\n",
      "800\n",
      "900\n",
      "1000\n",
      "1100\n",
      "1200\n",
      "1300\n"
     ]
    }
   ],
   "source": [
    "count=0\n",
    "rules_dict={}\n",
    "for r1 in range(relation_count):\n",
    "    if(r1%100==0):\n",
    "        print(r1)\n",
    "    for r2 in range(relation_count):\n",
    "        if(r1==r2):\n",
    "            continue\n",
    "        pair=(r1,r2)\n",
    "        if(pair not in count_r1_r2 or count_r1_r2[pair]<support):\n",
    "            continue\n",
    "        \n",
    "        combined_rel=model.dot_relation(r1,r2).reshape((1,-1))\n",
    "        distances, indices = nbrs.kneighbors(combined_rel)\n",
    "        \n",
    "        bool_arr=[False for i in range(relation_count)]\n",
    "        for ind in indices[0]:\n",
    "            if ind!=r1 and ind!=r2:\n",
    "                bool_arr[ind]=True\n",
    "        \n",
    "        if bool_arr[r1]==True or bool_arr[r2]==True:\n",
    "            print(\"Strange\")\n",
    "            print(indices[0],r1,r2)\n",
    "        \n",
    "        cur_dict={}\n",
    "        entpair_lis=list(set_r1_r2[pair])\n",
    "        for pair_e1e2 in entpair_lis:\n",
    "            if pair_e1e2 not in entity_to_rel:\n",
    "                continue\n",
    "            for r in entity_to_rel[pair_e1e2]:\n",
    "                if(bool_arr[r]==False):\n",
    "                    continue\n",
    "                if r not in cur_dict:\n",
    "                    count+=1\n",
    "                    cur_dict[r]=0\n",
    "                cur_dict[r]+=1\n",
    "        rules_dict[pair]=cur_dict\n",
    "        "
   ]
  },
  {
   "cell_type": "code",
   "execution_count": 15,
   "metadata": {},
   "outputs": [
    {
     "name": "stdout",
     "output_type": "stream",
     "text": [
      "56651\n",
      "1345\n",
      "9328\n"
     ]
    }
   ],
   "source": [
    "print(len(rules_dict))\n",
    "print(relation_count)\n",
    "print(count)"
   ]
  },
  {
   "cell_type": "markdown",
   "metadata": {},
   "source": [
    "# Saving rules"
   ]
  },
  {
   "cell_type": "code",
   "execution_count": 16,
   "metadata": {},
   "outputs": [
    {
     "name": "stdout",
     "output_type": "stream",
     "text": [
      "1345\n"
     ]
    }
   ],
   "source": [
    "path1='1_sup=1.pkl'\n",
    "path1=os.path.join(mining_dir,path1)\n",
    "utils.dump_pickle(rules_dict_1,path1)\n",
    "print(len(rules_dict_1))"
   ]
  },
  {
   "cell_type": "code",
   "execution_count": 17,
   "metadata": {},
   "outputs": [
    {
     "name": "stdout",
     "output_type": "stream",
     "text": [
      "56651\n"
     ]
    }
   ],
   "source": [
    "path2='2_sup=1_nei=500.pkl'\n",
    "path2=os.path.join(mining_dir,path2)\n",
    "utils.dump_pickle(rules_dict,path2)\n",
    "print(len(rules_dict))"
   ]
  },
  {
   "cell_type": "markdown",
   "metadata": {},
   "source": [
    "## Saving auxilary data for rule2"
   ]
  },
  {
   "cell_type": "code",
   "execution_count": 18,
   "metadata": {
    "collapsed": true
   },
   "outputs": [],
   "source": [
    "path='set_r1_r2.pkl'\n",
    "path=os.path.join(mining_dir,path)\n",
    "set_len_r1_r2={}\n",
    "for r1r2 in set_r1_r2:\n",
    "    set_len_r1_r2[r1r2]=len(set_r1_r2[r1r2])\n",
    "utils.dump_pickle(set_len_r1_r2,path)"
   ]
  },
  {
   "cell_type": "code",
   "execution_count": 19,
   "metadata": {
    "scrolled": true
   },
   "outputs": [
    {
     "name": "stdout",
     "output_type": "stream",
     "text": [
      "56863\n"
     ]
    }
   ],
   "source": [
    "print(len(count_r1_r2))"
   ]
  },
  {
   "cell_type": "markdown",
   "metadata": {},
   "source": [
    "## Analyse 3 Rules"
   ]
  },
  {
   "cell_type": "code",
   "execution_count": 47,
   "metadata": {},
   "outputs": [
    {
     "name": "stdout",
     "output_type": "stream",
     "text": [
      "100\n",
      "200\n",
      "300\n",
      "400\n",
      "500\n",
      "600\n",
      "700\n",
      "800\n",
      "900\n",
      "1000\n",
      "1100\n",
      "1200\n",
      "1300\n",
      "1400\n",
      "1500\n",
      "1600\n",
      "1700\n",
      "1800\n",
      "1900\n",
      "2000\n",
      "2100\n",
      "2200\n",
      "2300\n",
      "2400\n",
      "2500\n",
      "2600\n",
      "2700\n",
      "2800\n",
      "2900\n",
      "3000\n",
      "3100\n",
      "3200\n",
      "3300\n",
      "3400\n",
      "3500\n",
      "3600\n",
      "3700\n",
      "3800\n",
      "3900\n",
      "4000\n",
      "4100\n",
      "4200\n",
      "4300\n",
      "4400\n",
      "4500\n",
      "4600\n",
      "4700\n",
      "4800\n",
      "4900\n",
      "5000\n",
      "5100\n",
      "5200\n",
      "5300\n",
      "5400\n",
      "5500\n",
      "5600\n",
      "5700\n",
      "5800\n",
      "5900\n",
      "6000\n",
      "6100\n",
      "6200\n",
      "6300\n",
      "6400\n",
      "6500\n",
      "6600\n",
      "6700\n",
      "6800\n",
      "6900\n",
      "7000\n",
      "7100\n",
      "7200\n",
      "7300\n",
      "7400\n",
      "7500\n",
      "7600\n",
      "7700\n",
      "7800\n",
      "7900\n",
      "8000\n",
      "8100\n",
      "8200\n",
      "8300\n",
      "8400\n",
      "8500\n",
      "8600\n",
      "8700\n",
      "8800\n",
      "8900\n",
      "9000\n",
      "9100\n",
      "9200\n",
      "9300\n",
      "9400\n",
      "9500\n",
      "9600\n",
      "9700\n",
      "9800\n",
      "9900\n",
      "10000\n",
      "10100\n",
      "10200\n",
      "10300\n",
      "10400\n",
      "10500\n",
      "10600\n",
      "10700\n",
      "10800\n",
      "10900\n",
      "11000\n",
      "11100\n",
      "11200\n",
      "11300\n",
      "11400\n",
      "11500\n",
      "11600\n",
      "11700\n",
      "11800\n",
      "11900\n",
      "12000\n",
      "12100\n",
      "12200\n",
      "12300\n",
      "12400\n",
      "12500\n",
      "12600\n",
      "12700\n",
      "12800\n",
      "12900\n",
      "13000\n",
      "13100\n",
      "13200\n",
      "13300\n",
      "13400\n",
      "13500\n",
      "13600\n",
      "13700\n",
      "13800\n",
      "13900\n",
      "14000\n",
      "14100\n",
      "14200\n",
      "14300\n",
      "14400\n",
      "14500\n",
      "14600\n",
      "14700\n",
      "14800\n",
      "14900\n",
      "15000\n",
      "15100\n",
      "15200\n",
      "15300\n",
      "15400\n",
      "15500\n",
      "15600\n",
      "15700\n",
      "15800\n",
      "15900\n",
      "16000\n",
      "16100\n",
      "16200\n",
      "16300\n",
      "16400\n",
      "16500\n",
      "16600\n",
      "16700\n",
      "16800\n",
      "16900\n",
      "17000\n",
      "17100\n",
      "17200\n",
      "17300\n",
      "17400\n",
      "17500\n",
      "17600\n",
      "17700\n",
      "17800\n",
      "17900\n",
      "18000\n",
      "18100\n",
      "18200\n",
      "18300\n",
      "18400\n",
      "18500\n",
      "18600\n",
      "18700\n",
      "18800\n",
      "18900\n",
      "19000\n",
      "19100\n",
      "19200\n",
      "19300\n",
      "19400\n",
      "19500\n",
      "19600\n",
      "19700\n",
      "19800\n",
      "19900\n",
      "20000\n",
      "20100\n",
      "20200\n",
      "20300\n",
      "20400\n",
      "20500\n",
      "20600\n",
      "20700\n",
      "20800\n",
      "20900\n",
      "21000\n",
      "21100\n",
      "21200\n",
      "21300\n",
      "21400\n",
      "21500\n",
      "21600\n",
      "21700\n",
      "21800\n",
      "21900\n",
      "22000\n",
      "22100\n",
      "22200\n",
      "22300\n",
      "22400\n",
      "22500\n",
      "22600\n",
      "22700\n",
      "22800\n",
      "22900\n",
      "23000\n",
      "23100\n",
      "23200\n",
      "23300\n",
      "23400\n",
      "23500\n",
      "23600\n",
      "23700\n",
      "23800\n",
      "23900\n",
      "24000\n",
      "24100\n",
      "24200\n",
      "24300\n",
      "24400\n",
      "24500\n",
      "24600\n",
      "24700\n",
      "24800\n",
      "24900\n",
      "25000\n",
      "25100\n",
      "25200\n",
      "25300\n",
      "25400\n",
      "25500\n",
      "25600\n",
      "25700\n",
      "25800\n",
      "25900\n",
      "26000\n",
      "26100\n",
      "26200\n",
      "26300\n",
      "26400\n",
      "26500\n",
      "26600\n",
      "26700\n",
      "26800\n",
      "26900\n",
      "27000\n",
      "27100\n",
      "27200\n",
      "27300\n",
      "27400\n",
      "27500\n",
      "27600\n",
      "27700\n",
      "27800\n",
      "27900\n",
      "28000\n",
      "28100\n",
      "28200\n",
      "28300\n",
      "28400\n",
      "28500\n",
      "28600\n",
      "28700\n",
      "28800\n",
      "28900\n",
      "29000\n",
      "29100\n",
      "29200\n",
      "29300\n",
      "29400\n",
      "29500\n",
      "29600\n",
      "29700\n",
      "29800\n",
      "29900\n",
      "30000\n",
      "30100\n",
      "30200\n",
      "30300\n",
      "30400\n",
      "30500\n",
      "30600\n",
      "30700\n",
      "30800\n",
      "30900\n",
      "31000\n",
      "31100\n",
      "31200\n",
      "31300\n",
      "31400\n",
      "31500\n",
      "31600\n",
      "31700\n",
      "31800\n",
      "31900\n",
      "32000\n",
      "32100\n",
      "32200\n",
      "32300\n",
      "32400\n",
      "32500\n",
      "32600\n",
      "32700\n",
      "32800\n",
      "32900\n",
      "33000\n",
      "33100\n",
      "33200\n",
      "33300\n",
      "33400\n",
      "33500\n",
      "33600\n",
      "33700\n",
      "33800\n",
      "33900\n",
      "34000\n",
      "34100\n",
      "34200\n",
      "34300\n",
      "34400\n",
      "34500\n",
      "34600\n",
      "34700\n",
      "34800\n",
      "34900\n",
      "35000\n",
      "35100\n",
      "35200\n",
      "35300\n",
      "35400\n",
      "35500\n",
      "35600\n",
      "35700\n",
      "35800\n",
      "35900\n",
      "36000\n",
      "36100\n",
      "36200\n",
      "36300\n",
      "36400\n",
      "36500\n",
      "36600\n",
      "36700\n",
      "36800\n",
      "36900\n",
      "37000\n",
      "37100\n",
      "37200\n",
      "37300\n",
      "37400\n",
      "37500\n",
      "37600\n",
      "37700\n",
      "37800\n",
      "37900\n",
      "38000\n",
      "38100\n",
      "38200\n",
      "38300\n",
      "38400\n",
      "38500\n",
      "38600\n",
      "38700\n",
      "38800\n",
      "38900\n",
      "39000\n",
      "39100\n",
      "39200\n",
      "39300\n",
      "39400\n",
      "39500\n",
      "39600\n",
      "39700\n",
      "39800\n",
      "39900\n",
      "40000\n",
      "40100\n",
      "40200\n",
      "40300\n",
      "40400\n",
      "40500\n",
      "40600\n",
      "40700\n",
      "40800\n",
      "40900\n",
      "41000\n",
      "41100\n",
      "41200\n",
      "41300\n",
      "41400\n",
      "41500\n",
      "41600\n",
      "41700\n",
      "41800\n",
      "41900\n",
      "42000\n",
      "42100\n",
      "42200\n",
      "42300\n",
      "42400\n",
      "42500\n",
      "42600\n",
      "42700\n",
      "42800\n",
      "42900\n",
      "43000\n",
      "43100\n",
      "43200\n",
      "43300\n",
      "43400\n",
      "43500\n",
      "43600\n",
      "43700\n",
      "43800\n",
      "43900\n",
      "44000\n",
      "44100\n",
      "44200\n",
      "44300\n",
      "44400\n",
      "44500\n",
      "44600\n",
      "44700\n",
      "44800\n",
      "44900\n",
      "45000\n",
      "45100\n",
      "45200\n",
      "45300\n",
      "45400\n",
      "45500\n",
      "45600\n",
      "45700\n",
      "45800\n",
      "45900\n",
      "46000\n",
      "46100\n",
      "46200\n",
      "46300\n",
      "46400\n",
      "46500\n",
      "46600\n",
      "46700\n",
      "46800\n",
      "46900\n",
      "47000\n",
      "47100\n",
      "47200\n",
      "47300\n",
      "47400\n",
      "47500\n",
      "47600\n",
      "47700\n",
      "47800\n",
      "47900\n",
      "48000\n",
      "48100\n",
      "48200\n",
      "48300\n",
      "48400\n",
      "48500\n",
      "48600\n",
      "48700\n",
      "48800\n",
      "48900\n",
      "49000\n",
      "49100\n",
      "49200\n",
      "49300\n",
      "49400\n",
      "49500\n",
      "49600\n",
      "49700\n",
      "49800\n",
      "49900\n",
      "50000\n",
      "50100\n",
      "50200\n",
      "50300\n",
      "50400\n",
      "50500\n",
      "50600\n",
      "50700\n",
      "50800\n",
      "50900\n",
      "51000\n",
      "51100\n",
      "51200\n",
      "51300\n",
      "51400\n",
      "51500\n",
      "51600\n",
      "51700\n",
      "51800\n",
      "51900\n",
      "52000\n",
      "52100\n",
      "52200\n",
      "52300\n",
      "52400\n",
      "52500\n",
      "52600\n",
      "52700\n",
      "52800\n",
      "52900\n",
      "53000\n",
      "53100\n",
      "53200\n",
      "53300\n",
      "53400\n",
      "53500\n",
      "53600\n",
      "53700\n",
      "53800\n",
      "53900\n",
      "54000\n",
      "54100\n",
      "54200\n",
      "54300\n",
      "54400\n",
      "54500\n",
      "54600\n",
      "54700\n",
      "54800\n",
      "54900\n",
      "55000\n",
      "55100\n",
      "55200\n",
      "55300\n",
      "55400\n",
      "55500\n",
      "55600\n",
      "55700\n",
      "55800\n",
      "55900\n",
      "56000\n",
      "56100\n",
      "56200\n",
      "56300\n",
      "56400\n",
      "56500\n",
      "56600\n",
      "56700\n",
      "56800\n"
     ]
    }
   ],
   "source": [
    "rules_3=[]\n",
    "count=0\n",
    "count_dict={}\n",
    "\n",
    "for r1r2 in set_r1_r2:\n",
    "    count+=1\n",
    "    if(count%100==0):\n",
    "        print(count)\n",
    "    for e1e2 in set_r1_r2[r1r2]:\n",
    "        e1=e1e2[0]\n",
    "        e2=e1e2[1]\n",
    "        # e1-r1-e-r2-e2\n",
    "        count_conf_dict={}\n",
    "        \n",
    "        # e1-r1-e-r2-e2-r3-e3\n",
    "        if e2 not in index_head:\n",
    "            continue\n",
    "        for r3e3 in index_head[e2]:\n",
    "            e3=r3e3[1]\n",
    "            triplet=(r1r2[0],r1r2[1],r3e3[0])\n",
    "            if triplet not in count_dict:\n",
    "                count_dict[triplet]=0\n",
    "                count_conf_dict[triplet]={}\n",
    "            count_dict[triplet]+=1\n",
    "            "
   ]
  },
  {
   "cell_type": "code",
   "execution_count": 52,
   "metadata": {},
   "outputs": [
    {
     "name": "stdout",
     "output_type": "stream",
     "text": [
      "1646816\n"
     ]
    }
   ],
   "source": [
    "print(len(count_dict))"
   ]
  },
  {
   "cell_type": "code",
   "execution_count": 53,
   "metadata": {},
   "outputs": [
    {
     "name": "stdout",
     "output_type": "stream",
     "text": [
      "(30878, 2)\n"
     ]
    }
   ],
   "source": [
    "value_list=list(count_dict.values())\n",
    "cnt=Counter(value_list)\n",
    "cnt=sorted(cnt.items())\n",
    "array=np.array(cnt)\n",
    "print(array.shape)"
   ]
  },
  {
   "cell_type": "code",
   "execution_count": 54,
   "metadata": {},
   "outputs": [
    {
     "data": {
      "image/png": "[encoded data removed]",
      "text/plain": [
       "<matplotlib.figure.Figure at 0x7f1ec843da20>"
      ]
     },
     "metadata": {},
     "output_type": "display_data"
    }
   ],
   "source": [
    "plt.plot(array[:,1])\n",
    "plt.show()"
   ]
  },
  {
   "cell_type": "code",
   "execution_count": 55,
   "metadata": {},
   "outputs": [
    {
     "name": "stdout",
     "output_type": "stream",
     "text": [
      "[[     1 245846]\n",
      " [     2 152144]\n",
      " [     3  90897]\n",
      " [     4  82622]\n",
      " [     5  51253]\n",
      " [     6  55643]\n",
      " [     7  34044]\n",
      " [     8  38312]\n",
      " [     9  28950]\n",
      " [    10  29029]] [0.14928565 0.24167242 0.29686802 0.34703877 0.37816125 0.41194948\n",
      " 0.4326221  0.45588639 0.47346577 0.49109312]\n"
     ]
    }
   ],
   "source": [
    "temp=np.cumsum(array[:,1])/np.sum(array[:,1])\n",
    "print(array[temp[:]<0.5],temp[temp[:]<0.5])"
   ]
  },
  {
   "cell_type": "code",
   "execution_count": null,
   "metadata": {
    "collapsed": true
   },
   "outputs": [],
   "source": []
  },
  {
   "cell_type": "code",
   "execution_count": null,
   "metadata": {
    "collapsed": true
   },
   "outputs": [],
   "source": []
  },
  {
   "cell_type": "markdown",
   "metadata": {},
   "source": [
    "## Rules Length 3"
   ]
  },
  {
   "cell_type": "code",
   "execution_count": null,
   "metadata": {
    "collapsed": true
   },
   "outputs": [],
   "source": [
    "min_sup=4\n",
    "confidence=0\n",
    "r1r2_ent=utils.get_r1r2_e1e2_dict(mapped_train_data,index_head)"
   ]
  },
  {
   "cell_type": "code",
   "execution_count": null,
   "metadata": {
    "scrolled": true
   },
   "outputs": [
    {
     "name": "stdout",
     "output_type": "stream",
     "text": [
      "100\n",
      "14232215\n",
      "200\n",
      "18987259\n",
      "300\n",
      "21947062\n",
      "400\n",
      "23150992\n"
     ]
    }
   ],
   "source": [
    "rules_3=[]\n",
    "count=0\n",
    "\n",
    "for r1r2 in set_r1_r2:\n",
    "#     prit(r1r2)\n",
    "    count+=1\n",
    "    if(count%100==0):\n",
    "        print(count)\n",
    "        print(len(rules_3))\n",
    "    for e1e2 in set_r1_r2[r1r2]:\n",
    "        e1=e1e2[0]\n",
    "        e2=e1e2[1]\n",
    "        # e1-r1-e-r2-e2\n",
    "        e=r1r2_ent[r1r2][e1e2]\n",
    "        count_conf_dict={}\n",
    "        count_dict={}\n",
    "        \n",
    "        # e1-r1-e-r2-e2-r3-e3\n",
    "        if e2 not in index_head:\n",
    "            continue\n",
    "        for r3e3 in index_head[e2]:\n",
    "            e3=r3e3[1]\n",
    "            triplet=(r1r2[0],r1r2[1],r3e3[0])\n",
    "            if triplet not in count_dict:\n",
    "                count_dict[triplet]=0\n",
    "                count_conf_dict[triplet]={}\n",
    "            count_dict[triplet]+=1\n",
    "            \n",
    "            pair=(e1,e3)\n",
    "            if pair not in entity_to_rel:\n",
    "                continue\n",
    "            for rel in entity_to_rel[pair]:\n",
    "                if rel not in count_conf_dict[triplet]:\n",
    "                    count_conf_dict[triplet][rel]=0\n",
    "                count_conf_dict[triplet][rel]+=1\n",
    "        \n",
    "        for r1r2r3,supp in count_dict.items():\n",
    "            if supp < min_sup:\n",
    "                continue\n",
    "            for r4,conf in count_conf_dict[r1r2r3].items():\n",
    "                if conf>confidence:\n",
    "                    rules_3.append((r1r2r3,r4,supp,conf))           \n",
    "        "
   ]
  },
  {
   "cell_type": "code",
   "execution_count": 26,
   "metadata": {
    "collapsed": true
   },
   "outputs": [],
   "source": [
    "rules_3.sort(key=lambda x:(x[3]*1.0)/x[2],reverse=True)"
   ]
  },
  {
   "cell_type": "code",
   "execution_count": 27,
   "metadata": {
    "collapsed": true
   },
   "outputs": [],
   "source": [
    "path_rule_3=os.path.join(mining_dir,\"3_sup=4_conf=0.pkl\")"
   ]
  },
  {
   "cell_type": "code",
   "execution_count": 28,
   "metadata": {
    "collapsed": true
   },
   "outputs": [],
   "source": [
    "utils.dump_pickle(rules_3,path_rule_3)"
   ]
  },
  {
   "cell_type": "markdown",
   "metadata": {},
   "source": [
    "## Load Len 3 rules"
   ]
  },
  {
   "cell_type": "code",
   "execution_count": 16,
   "metadata": {
    "collapsed": true
   },
   "outputs": [],
   "source": [
    "rules_3=utils.load_pickle(path_rule_3)"
   ]
  },
  {
   "cell_type": "code",
   "execution_count": 17,
   "metadata": {},
   "outputs": [
    {
     "data": {
      "text/plain": [
       "[((0, 30, 0), 0, 5, 9, 4467, 4467),\n",
       " ((0, 0, 0), 0, 5, 9, 4467, 4467),\n",
       " ((30, 0, 0), 0, 5, 9, 4467, 4467),\n",
       " ((30, 30, 0), 0, 5, 9, 4467, 4467),\n",
       " ((0, 0, 0), 0, 7, 9, 4467, 7639),\n",
       " ((0, 12, 0), 0, 4, 4, 268, 96842),\n",
       " ((0, 12, 8), 8, 4, 4, 268, 96842),\n",
       " ((0, 12, 8), 8, 4, 4, 10955, 96005),\n",
       " ((0, 12, 8), 8, 6, 6, 90199, 75683),\n",
       " ((0, 12, 8), 0, 4, 4, 16440, 73420)]"
      ]
     },
     "execution_count": 17,
     "metadata": {},
     "output_type": "execute_result"
    }
   ],
   "source": [
    "rules_3[0:10]"
   ]
  },
  {
   "cell_type": "code",
   "execution_count": null,
   "metadata": {
    "collapsed": true
   },
   "outputs": [],
   "source": []
  },
  {
   "cell_type": "code",
   "execution_count": 62,
   "metadata": {},
   "outputs": [
    {
     "name": "stdout",
     "output_type": "stream",
     "text": [
      "26395372\n"
     ]
    }
   ],
   "source": [
    "print(len(rules_3))"
   ]
  },
  {
   "cell_type": "code",
   "execution_count": 24,
   "metadata": {},
   "outputs": [
    {
     "data": {
      "text/plain": [
       "102926374"
      ]
     },
     "execution_count": 24,
     "metadata": {},
     "output_type": "execute_result"
    }
   ],
   "source": [
    "len(rules_3)"
   ]
  },
  {
   "cell_type": "code",
   "execution_count": 25,
   "metadata": {},
   "outputs": [
    {
     "data": {
      "text/plain": [
       "4"
      ]
     },
     "execution_count": 25,
     "metadata": {},
     "output_type": "execute_result"
    }
   ],
   "source": [
    "min_sup"
   ]
  },
  {
   "cell_type": "code",
   "execution_count": null,
   "metadata": {
    "collapsed": true
   },
   "outputs": [],
   "source": []
  }
 ],
 "metadata": {
  "kernelspec": {
   "display_name": "Python 3",
   "language": "python",
   "name": "python3"
  },
  "language_info": {
   "codemirror_mode": {
    "name": "ipython",
    "version": 3
   },
   "file_extension": ".py",
   "mimetype": "text/x-python",
   "name": "python",
   "nbconvert_exporter": "python",
   "pygments_lexer": "ipython3",
   "version": "3.6.8"
  }
 },
 "nbformat": 4,
 "nbformat_minor": 2
}
