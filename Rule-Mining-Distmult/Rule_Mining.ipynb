{
 "cells": [
  {
   "cell_type": "code",
   "execution_count": 140,
   "metadata": {
    "collapsed": true
   },
   "outputs": [],
   "source": [
    "import numpy as np\n",
    "import pickle\n",
    "import json\n",
    "import os\n",
    "import sys\n",
    "import copy\n",
    "import sklearn.preprocessing\n",
    "import models\n",
    "from sklearn.neighbors import NearestNeighbors\n",
    "import utils"
   ]
  },
  {
   "cell_type": "code",
   "execution_count": 141,
   "metadata": {
    "collapsed": true
   },
   "outputs": [],
   "source": [
    "DATA_DIR = \"../../data/fb15k/\"\n",
    "DUMP_FILE = \"../dumps/fb15k_distmult_dump_norm.pkl\"\n",
    "MODEL_TYPE = \"distmult\""
   ]
  },
  {
   "cell_type": "code",
   "execution_count": 142,
   "metadata": {
    "collapsed": true
   },
   "outputs": [],
   "source": [
    "train_data = utils.read_data(os.path.join(DATA_DIR,\"train.txt\"))\n",
    "# dev_data = read_data(os.path.join(DATA_DIR,\"valid.txt\"))\n",
    "# test_data = read_data(os.path.join(DATA_DIR,\"test.txt\"))"
   ]
  },
  {
   "cell_type": "code",
   "execution_count": 143,
   "metadata": {},
   "outputs": [
    {
     "data": {
      "text/plain": [
       "dict_keys(['tail_rel_type', 'entity_type', 'entity_to_id', 'head_rel_type', 'entity_real', 'rel_real', 'relation_to_id'])"
      ]
     },
     "execution_count": 143,
     "metadata": {},
     "output_type": "execute_result"
    }
   ],
   "source": [
    "dump=utils.load_pickle(DUMP_FILE)\n",
    "dump.keys()"
   ]
  },
  {
   "cell_type": "code",
   "execution_count": 144,
   "metadata": {
    "collapsed": true
   },
   "outputs": [],
   "source": [
    "model=models.TypedDM(DUMP_FILE)"
   ]
  },
  {
   "cell_type": "code",
   "execution_count": 145,
   "metadata": {
    "collapsed": true
   },
   "outputs": [],
   "source": [
    "mapped_train_data = utils.map_data(train_data,dump)\n",
    "# mapped_dev_data = map_data(dev_data)\n",
    "# mapped_test_data = map_data(test_data)"
   ]
  },
  {
   "cell_type": "code",
   "execution_count": 146,
   "metadata": {
    "collapsed": true
   },
   "outputs": [],
   "source": [
    "entity_to_rel=utils.get_ent_to_rel(mapped_train_data)"
   ]
  },
  {
   "cell_type": "markdown",
   "metadata": {},
   "source": [
    "# Length 1 Rules"
   ]
  },
  {
   "cell_type": "code",
   "execution_count": 147,
   "metadata": {},
   "outputs": [
    {
     "name": "stdout",
     "output_type": "stream",
     "text": [
      "1345\n",
      "1345 1345\n"
     ]
    }
   ],
   "source": [
    "nbrs = NearestNeighbors(n_neighbors=100,metric=model.similarity_relembedding).fit(model.relation_matrix)\n",
    "relation_count=len(dump['relation_to_id'])\n",
    "print(relation_count)\n",
    "count_r,set_r=utils.get_relation_dict(mapped_train_data)\n",
    "print(len(count_r),len(set_r))\n",
    "support=5"
   ]
  },
  {
   "cell_type": "code",
   "execution_count": 148,
   "metadata": {
    "scrolled": true
   },
   "outputs": [
    {
     "name": "stdout",
     "output_type": "stream",
     "text": [
      "0\n",
      "100\n",
      "200\n",
      "300\n",
      "400\n",
      "500\n",
      "600\n",
      "700\n",
      "800\n",
      "900\n",
      "1000\n",
      "1100\n",
      "1200\n",
      "1300\n"
     ]
    }
   ],
   "source": [
    "rules_dict_1={}\n",
    "count=0\n",
    "count2=0\n",
    "for r1 in range(relation_count):\n",
    "    if(r1%100==0):\n",
    "        print(r1)\n",
    "    if(count_r[r1]<support):\n",
    "        continue\n",
    "    combined_rel=model.relation_matrix[r1].reshape((1,-1))\n",
    "    distances, indices = nbrs.kneighbors(combined_rel)\n",
    "    indices=indices[0]\n",
    "    bool_arr=[False for i in range(relation_count)]\n",
    "    for ind in indices:\n",
    "        if ind!=r1:\n",
    "            bool_arr[ind]=True\n",
    "    cur_dict={}\n",
    "    for pair_e1e2 in set_r[r1]:\n",
    "        if pair_e1e2 not in entity_to_rel:\n",
    "            continue\n",
    "        for r2 in entity_to_rel[pair_e1e2]:\n",
    "            count+=1\n",
    "            if bool_arr[r2]==False:\n",
    "                continue\n",
    "            if r2 not in cur_dict:\n",
    "                count2+=1\n",
    "                cur_dict[r2]=0\n",
    "            cur_dict[r2]+=1\n",
    "    rules_dict_1[r1]=cur_dict            "
   ]
  },
  {
   "cell_type": "code",
   "execution_count": 149,
   "metadata": {
    "scrolled": true
   },
   "outputs": [
    {
     "name": "stdout",
     "output_type": "stream",
     "text": [
      "992\n",
      "732202 558\n"
     ]
    }
   ],
   "source": [
    "print(len(rules_dict_1))\n",
    "print(count,count2)"
   ]
  },
  {
   "cell_type": "markdown",
   "metadata": {},
   "source": [
    "# Length 2 Rules"
   ]
  },
  {
   "cell_type": "code",
   "execution_count": 150,
   "metadata": {
    "collapsed": true
   },
   "outputs": [],
   "source": [
    "index_head=utils.get_head_index(mapped_train_data)\n",
    "count_r1_r2,set_r1_r2=utils.get_r1r2_count(mapped_train_data,index_head,get_set=True)"
   ]
  },
  {
   "cell_type": "code",
   "execution_count": 151,
   "metadata": {
    "collapsed": true
   },
   "outputs": [],
   "source": [
    "nbrs = NearestNeighbors(n_neighbors=100,metric=model.similarity_relembedding).fit(model.relation_matrix)\n",
    "support=10"
   ]
  },
  {
   "cell_type": "code",
   "execution_count": 152,
   "metadata": {
    "scrolled": true
   },
   "outputs": [
    {
     "name": "stdout",
     "output_type": "stream",
     "text": [
      "0\n",
      "100\n",
      "200\n",
      "300\n",
      "400\n",
      "500\n",
      "600\n",
      "700\n",
      "800\n",
      "900\n",
      "1000\n",
      "1100\n",
      "1200\n",
      "1300\n"
     ]
    }
   ],
   "source": [
    "count=0\n",
    "rules_dict={}\n",
    "for r1 in range(relation_count):\n",
    "    if(r1%100==0):\n",
    "        print(r1)\n",
    "    for r2 in range(relation_count):\n",
    "        if(r1==r2):\n",
    "            continue\n",
    "        pair=(r1,r2)\n",
    "        if(pair not in count_r1_r2 or count_r1_r2[pair]<support):\n",
    "            continue\n",
    "        \n",
    "        combined_rel=model.dot_relation(r1,r2).reshape((1,-1))\n",
    "        distances, indices = nbrs.kneighbors(combined_rel)\n",
    "        \n",
    "        bool_arr=[False for i in range(relation_count)]\n",
    "        for ind in indices[0]:\n",
    "            if ind!=r1 and ind!=r2:\n",
    "                bool_arr[ind]=True\n",
    "        \n",
    "        cur_dict={}\n",
    "        entpair_lis=list(set_r1_r2[pair])\n",
    "        for pair_e1e2 in entpair_lis:\n",
    "            if pair_e1e2 not in entity_to_rel:\n",
    "                continue\n",
    "            for r in entity_to_rel[pair_e1e2]:\n",
    "                if(bool_arr[r]==False):\n",
    "                    continue\n",
    "                if r not in cur_dict:\n",
    "                    count+=1\n",
    "                    cur_dict[r]=0\n",
    "                cur_dict[r]+=1\n",
    "        rules_dict[pair]=cur_dict\n",
    "        "
   ]
  },
  {
   "cell_type": "code",
   "execution_count": 153,
   "metadata": {},
   "outputs": [
    {
     "name": "stdout",
     "output_type": "stream",
     "text": [
      "28417\n",
      "1345\n",
      "1743\n"
     ]
    }
   ],
   "source": [
    "print(len(rules_dict))\n",
    "print(relation_count)\n",
    "print(count)"
   ]
  },
  {
   "cell_type": "markdown",
   "metadata": {},
   "source": [
    "# Saving rules"
   ]
  },
  {
   "cell_type": "code",
   "execution_count": 154,
   "metadata": {
    "collapsed": true
   },
   "outputs": [],
   "source": [
    "path1='rules_1.pkl'\n",
    "utils.dump_pickle(rules_dict_1,path1)"
   ]
  },
  {
   "cell_type": "code",
   "execution_count": 155,
   "metadata": {
    "collapsed": true
   },
   "outputs": [],
   "source": [
    "path2='rules_2.pkl'\n",
    "utils.dump_pickle(rules_dict,path)\n",
    "# with open(path2,\"wb\") as writefile:\n",
    "#     pickle.dump(rules_dict,writefile)"
   ]
  },
  {
   "cell_type": "markdown",
   "metadata": {},
   "source": [
    "## Saving auxilary data for rule2"
   ]
  },
  {
   "cell_type": "code",
   "execution_count": 156,
   "metadata": {},
   "outputs": [],
   "source": [
    "path='set_r1_r2.pkl'\n",
    "set_len_r1_r2={}\n",
    "for r1r2 in set_r1_r2:\n",
    "    set_len_r1_r2[r1r2]=len(set_r1_r2[r1r2])\n",
    "utils.dump_pickle(set_len_r1_r2,path)"
   ]
  },
  {
   "cell_type": "code",
   "execution_count": null,
   "metadata": {
    "collapsed": true
   },
   "outputs": [],
   "source": []
  }
 ],
 "metadata": {
  "kernelspec": {
   "display_name": "Python 3",
   "language": "python",
   "name": "python3"
  },
  "language_info": {
   "codemirror_mode": {
    "name": "ipython",
    "version": 3
   },
   "file_extension": ".py",
   "mimetype": "text/x-python",
   "name": "python",
   "nbconvert_exporter": "python",
   "pygments_lexer": "ipython3",
   "version": "3.6.3"
  }
 },
 "nbformat": 4,
 "nbformat_minor": 2
}
