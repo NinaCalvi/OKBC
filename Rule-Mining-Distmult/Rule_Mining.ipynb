{
 "cells": [
  {
   "cell_type": "code",
   "execution_count": 1,
   "metadata": {
    "collapsed": true
   },
   "outputs": [],
   "source": [
    "import numpy as np\n",
    "import pickle\n",
    "import json\n",
    "import os\n",
    "import sys\n",
    "import copy\n",
    "import sklearn.preprocessing\n",
    "import models\n",
    "from sklearn.neighbors import NearestNeighbors\n",
    "import utils\n",
    "from collections import Counter\n",
    "import matplotlib.pyplot as plt"
   ]
  },
  {
   "cell_type": "code",
   "execution_count": 2,
   "metadata": {
    "collapsed": true
   },
   "outputs": [],
   "source": [
    "DATA_DIR = \"../../data/yago/\"\n",
    "DUMP_FILE = \"../dumps/yago_distmult_dump_norm.pkl\"\n",
    "MODEL_TYPE = \"yago\"\n",
    "mining_dir=\"mined_yago/\""
   ]
  },
  {
   "cell_type": "code",
   "execution_count": 3,
   "metadata": {
    "collapsed": true
   },
   "outputs": [],
   "source": [
    "train_data = utils.read_data(os.path.join(DATA_DIR,\"train.txt\"))\n",
    "# dev_data = read_data(os.path.join(DATA_DIR,\"valid.txt\"))\n",
    "# test_data = read_data(os.path.join(DATA_DIR,\"test.txt\"))"
   ]
  },
  {
   "cell_type": "code",
   "execution_count": 4,
   "metadata": {},
   "outputs": [
    {
     "data": {
      "text/plain": [
       "dict_keys(['entity_real', 'head_rel_type', 'tail_rel_type', 'rel_real', 'relation_to_id', 'entity_type', 'entity_to_id'])"
      ]
     },
     "execution_count": 4,
     "metadata": {},
     "output_type": "execute_result"
    }
   ],
   "source": [
    "dump=utils.load_pickle(DUMP_FILE)\n",
    "dump.keys()"
   ]
  },
  {
   "cell_type": "code",
   "execution_count": 5,
   "metadata": {
    "collapsed": true
   },
   "outputs": [],
   "source": [
    "model=models.TypedDM(DUMP_FILE)"
   ]
  },
  {
   "cell_type": "code",
   "execution_count": 6,
   "metadata": {
    "collapsed": true
   },
   "outputs": [],
   "source": [
    "mapped_train_data = utils.map_data(train_data,dump)\n",
    "# mapped_dev_data = map_data(dev_data)\n",
    "# mapped_test_data = map_data(test_data)"
   ]
  },
  {
   "cell_type": "code",
   "execution_count": 7,
   "metadata": {
    "collapsed": true
   },
   "outputs": [],
   "source": [
    "entity_to_rel=utils.get_ent_to_rel(mapped_train_data)"
   ]
  },
  {
   "cell_type": "markdown",
   "metadata": {},
   "source": [
    "# Length 1 Rules"
   ]
  },
  {
   "cell_type": "code",
   "execution_count": 8,
   "metadata": {},
   "outputs": [
    {
     "name": "stdout",
     "output_type": "stream",
     "text": [
      "37\n",
      "37 37\n"
     ]
    }
   ],
   "source": [
    "relation_count=len(dump['relation_to_id'])\n",
    "nbrs = NearestNeighbors(n_neighbors=relation_count,metric=model.similarity_relembedding).fit(model.relation_matrix)\n",
    "print(relation_count)\n",
    "count_r,set_r=utils.get_relation_dict(mapped_train_data)\n",
    "print(len(count_r),len(set_r))\n",
    "support=4"
   ]
  },
  {
   "cell_type": "code",
   "execution_count": 37,
   "metadata": {
    "scrolled": false
   },
   "outputs": [
    {
     "name": "stdout",
     "output_type": "stream",
     "text": [
      "0\n"
     ]
    }
   ],
   "source": [
    "rules_dict_1={}\n",
    "count=0\n",
    "count2=0\n",
    "for r1 in range(relation_count):\n",
    "    if(r1%100==0):\n",
    "        print(r1)\n",
    "    if(count_r[r1]<support):\n",
    "        continue\n",
    "    combined_rel=model.relation_matrix[r1].reshape((1,-1))\n",
    "    distances, indices = nbrs.kneighbors(combined_rel)\n",
    "    indices=indices[0]\n",
    "    bool_arr=[False for i in range(relation_count)]\n",
    "    for ind in indices:\n",
    "        if ind!=r1:\n",
    "            bool_arr[ind]=True\n",
    "    cur_dict={}\n",
    "    for pair_e1e2 in set_r[r1]:\n",
    "        if pair_e1e2 not in entity_to_rel:\n",
    "            print(\"Strange\")\n",
    "            continue\n",
    "        for r2 in entity_to_rel[pair_e1e2]:\n",
    "            count+=1\n",
    "            if bool_arr[r2]==False:\n",
    "                continue\n",
    "            if r2 not in cur_dict:\n",
    "                count2+=1\n",
    "                cur_dict[r2]=0\n",
    "            cur_dict[r2]+=1\n",
    "    rules_dict_1[r1]=cur_dict            "
   ]
  },
  {
   "cell_type": "code",
   "execution_count": 38,
   "metadata": {
    "scrolled": true
   },
   "outputs": [
    {
     "name": "stdout",
     "output_type": "stream",
     "text": [
      "37\n",
      "1652846 112\n"
     ]
    }
   ],
   "source": [
    "print(len(rules_dict_1))\n",
    "print(count,count2)"
   ]
  },
  {
   "cell_type": "markdown",
   "metadata": {},
   "source": [
    "# Length 2 Rules"
   ]
  },
  {
   "cell_type": "code",
   "execution_count": 9,
   "metadata": {
    "collapsed": true
   },
   "outputs": [],
   "source": [
    "index_head=utils.get_head_index(mapped_train_data)\n",
    "count_r1_r2,set_r1_r2=utils.get_r1r2_count(mapped_train_data,index_head,get_set=True)"
   ]
  },
  {
   "cell_type": "code",
   "execution_count": 10,
   "metadata": {
    "collapsed": true
   },
   "outputs": [],
   "source": [
    "nbrs = NearestNeighbors(n_neighbors=30,metric=model.similarity_relembedding).fit(model.relation_matrix)\n",
    "support=4"
   ]
  },
  {
   "cell_type": "code",
   "execution_count": 41,
   "metadata": {
    "scrolled": true
   },
   "outputs": [
    {
     "name": "stdout",
     "output_type": "stream",
     "text": [
      "0\n"
     ]
    }
   ],
   "source": [
    "count=0\n",
    "rules_dict={}\n",
    "for r1 in range(relation_count):\n",
    "    if(r1%100==0):\n",
    "        print(r1)\n",
    "    for r2 in range(relation_count):\n",
    "        if(r1==r2):\n",
    "            continue\n",
    "        pair=(r1,r2)\n",
    "        if(pair not in count_r1_r2 or count_r1_r2[pair]<support):\n",
    "            continue\n",
    "        \n",
    "        combined_rel=model.dot_relation(r1,r2).reshape((1,-1))\n",
    "        distances, indices = nbrs.kneighbors(combined_rel)\n",
    "        \n",
    "        bool_arr=[False for i in range(relation_count)]\n",
    "        for ind in indices[0]:\n",
    "            if ind!=r1 and ind!=r2:\n",
    "                bool_arr[ind]=True\n",
    "        \n",
    "        if bool_arr[r1]==True or bool_arr[r2]==True:\n",
    "            print(\"Strange\")\n",
    "            print(indices[0],r1,r2)\n",
    "        \n",
    "        cur_dict={}\n",
    "        entpair_lis=list(set_r1_r2[pair])\n",
    "        for pair_e1e2 in entpair_lis:\n",
    "            if pair_e1e2 not in entity_to_rel:\n",
    "                continue\n",
    "            for r in entity_to_rel[pair_e1e2]:\n",
    "                if(bool_arr[r]==False):\n",
    "                    continue\n",
    "                if r not in cur_dict:\n",
    "                    count+=1\n",
    "                    cur_dict[r]=0\n",
    "                cur_dict[r]+=1\n",
    "        rules_dict[pair]=cur_dict\n",
    "        "
   ]
  },
  {
   "cell_type": "code",
   "execution_count": 42,
   "metadata": {},
   "outputs": [
    {
     "name": "stdout",
     "output_type": "stream",
     "text": [
      "316\n",
      "37\n",
      "288\n"
     ]
    }
   ],
   "source": [
    "print(len(rules_dict))\n",
    "print(relation_count)\n",
    "print(count)"
   ]
  },
  {
   "cell_type": "markdown",
   "metadata": {},
   "source": [
    "# Saving rules"
   ]
  },
  {
   "cell_type": "code",
   "execution_count": 43,
   "metadata": {
    "collapsed": true
   },
   "outputs": [],
   "source": [
    "path1='rules_1_1.pkl'\n",
    "path1=os.path.join(mining_dir,path1)\n",
    "utils.dump_pickle(rules_dict_1,path1)"
   ]
  },
  {
   "cell_type": "code",
   "execution_count": 44,
   "metadata": {
    "collapsed": true
   },
   "outputs": [],
   "source": [
    "path2='rules_2_1.pkl'\n",
    "path2=os.path.join(mining_dir,path2)\n",
    "utils.dump_pickle(rules_dict,path2)"
   ]
  },
  {
   "cell_type": "markdown",
   "metadata": {},
   "source": [
    "## Saving auxilary data for rule2"
   ]
  },
  {
   "cell_type": "code",
   "execution_count": 45,
   "metadata": {
    "collapsed": true
   },
   "outputs": [],
   "source": [
    "path='set_r1_r2.pkl'\n",
    "path=os.path.join(mining_dir,path)\n",
    "set_len_r1_r2={}\n",
    "for r1r2 in set_r1_r2:\n",
    "    set_len_r1_r2[r1r2]=len(set_r1_r2[r1r2])\n",
    "utils.dump_pickle(set_len_r1_r2,path)"
   ]
  },
  {
   "cell_type": "code",
   "execution_count": 27,
   "metadata": {},
   "outputs": [
    {
     "name": "stdout",
     "output_type": "stream",
     "text": [
      "386\n"
     ]
    }
   ],
   "source": [
    "print(len(count_r1_r2))"
   ]
  },
  {
   "cell_type": "markdown",
   "metadata": {},
   "source": [
    "## Analyse 3 Rules"
   ]
  },
  {
   "cell_type": "code",
   "execution_count": 28,
   "metadata": {
    "collapsed": true
   },
   "outputs": [],
   "source": [
    "min_sup=4\n",
    "confidence=0"
   ]
  },
  {
   "cell_type": "code",
   "execution_count": 29,
   "metadata": {},
   "outputs": [
    {
     "name": "stdout",
     "output_type": "stream",
     "text": [
      "100\n",
      "200\n",
      "300\n"
     ]
    }
   ],
   "source": [
    "rules_3=[]\n",
    "count=0\n",
    "count_dict={}\n",
    "\n",
    "for r1r2 in set_r1_r2:\n",
    "#     prit(r1r2)\n",
    "    count+=1\n",
    "    if(count%100==0):\n",
    "        print(count)\n",
    "    for e1e2 in set_r1_r2[r1r2]:\n",
    "        e1=e1e2[0]\n",
    "        e2=e1e2[1]\n",
    "        # e1-r1-e-r2-e2\n",
    "        count_conf_dict={}\n",
    "#         count_dict={}\n",
    "        \n",
    "        # e1-r1-e-r2-e2-r3-e3\n",
    "        if e2 not in index_head:\n",
    "            continue\n",
    "        for r3e3 in index_head[e2]:\n",
    "            e3=r3e3[1]\n",
    "            triplet=(r1r2[0],r1r2[1],r3e3[0])\n",
    "            if triplet not in count_dict:\n",
    "                count_dict[triplet]=0\n",
    "                count_conf_dict[triplet]={}\n",
    "            count_dict[triplet]+=1\n",
    "            \n",
    "#             pair=(e1,e3)\n",
    "#             if pair not in entity_to_rel:\n",
    "#                 continue\n",
    "#             for rel in entity_to_rel[pair]:\n",
    "#                 if rel not in count_conf_dict[triplet]:\n",
    "#                     count_conf_dict[triplet][rel]=0\n",
    "#                 count_conf_dict[triplet][rel]+=1\n",
    "        \n",
    "#         for r1r2r3,supp in count_dict.items():\n",
    "#             if supp < min_sup:\n",
    "#                 continue\n",
    "#             for r4,conf in count_conf_dict[r1r2r3].items():\n",
    "#                 rules_3.append((r1r2r3,r4,supp,conf))           \n",
    "        "
   ]
  },
  {
   "cell_type": "code",
   "execution_count": 30,
   "metadata": {},
   "outputs": [
    {
     "name": "stdout",
     "output_type": "stream",
     "text": [
      "2029\n"
     ]
    }
   ],
   "source": [
    "print(len(count_dict))"
   ]
  },
  {
   "cell_type": "code",
   "execution_count": 31,
   "metadata": {},
   "outputs": [
    {
     "name": "stdout",
     "output_type": "stream",
     "text": [
      "(964, 2)\n"
     ]
    }
   ],
   "source": [
    "value_list=list(count_dict.values())\n",
    "cnt=Counter(value_list)\n",
    "cnt=sorted(cnt.items())\n",
    "array=np.array(cnt)\n",
    "print(array.shape)"
   ]
  },
  {
   "cell_type": "code",
   "execution_count": 32,
   "metadata": {},
   "outputs": [
    {
     "data": {
      "image/png": "[encoded data removed]",
      "text/plain": [
       "<matplotlib.figure.Figure at 0x7f8bea9be2e8>"
      ]
     },
     "metadata": {},
     "output_type": "display_data"
    }
   ],
   "source": [
    "plt.plot(array[:,1])\n",
    "plt.show()"
   ]
  },
  {
   "cell_type": "code",
   "execution_count": null,
   "metadata": {
    "collapsed": true
   },
   "outputs": [],
   "source": [
    "temp=np.cumsum(array[:,1])/np.sum(array[:,1])\n",
    "print(array[temp[:]<0.5],temp[temp[:]<0.5])"
   ]
  },
  {
   "cell_type": "code",
   "execution_count": null,
   "metadata": {
    "collapsed": true
   },
   "outputs": [],
   "source": []
  },
  {
   "cell_type": "code",
   "execution_count": null,
   "metadata": {
    "collapsed": true
   },
   "outputs": [],
   "source": []
  },
  {
   "cell_type": "markdown",
   "metadata": {},
   "source": [
    "## Rules Length 3"
   ]
  },
  {
   "cell_type": "code",
   "execution_count": 11,
   "metadata": {
    "collapsed": true
   },
   "outputs": [],
   "source": [
    "min_sup=4\n",
    "confidence=0\n",
    "r1r2_ent=utils.get_r1r2_e1e2_dict(mapped_train_data,index_head)"
   ]
  },
  {
   "cell_type": "code",
   "execution_count": 12,
   "metadata": {
    "scrolled": true
   },
   "outputs": [
    {
     "name": "stdout",
     "output_type": "stream",
     "text": [
      "100\n",
      "1042958\n",
      "200\n",
      "1133608\n",
      "300\n",
      "1136498\n"
     ]
    }
   ],
   "source": [
    "rules_3=[]\n",
    "count=0\n",
    "\n",
    "for r1r2 in set_r1_r2:\n",
    "#     prit(r1r2)\n",
    "    count+=1\n",
    "    if(count%100==0):\n",
    "        print(count)\n",
    "        print(len(rules_3))\n",
    "    for e1e2 in set_r1_r2[r1r2]:\n",
    "        e1=e1e2[0]\n",
    "        e2=e1e2[1]\n",
    "        # e1-r1-e-r2-e2\n",
    "        e=r1r2_ent[r1r2][e1e2]\n",
    "        count_conf_dict={}\n",
    "        count_dict={}\n",
    "        \n",
    "        # e1-r1-e-r2-e2-r3-e3\n",
    "        if e2 not in index_head:\n",
    "            continue\n",
    "        for r3e3 in index_head[e2]:\n",
    "            e3=r3e3[1]\n",
    "            triplet=(r1r2[0],r1r2[1],r3e3[0])\n",
    "            if triplet not in count_dict:\n",
    "                count_dict[triplet]=0\n",
    "                count_conf_dict[triplet]={}\n",
    "            count_dict[triplet]+=1\n",
    "            \n",
    "            pair=(e1,e3)\n",
    "            if pair not in entity_to_rel:\n",
    "                continue\n",
    "            for rel in entity_to_rel[pair]:\n",
    "                if rel not in count_conf_dict[triplet]:\n",
    "                    count_conf_dict[triplet][rel]=0\n",
    "                count_conf_dict[triplet][rel]+=1\n",
    "        \n",
    "        for r1r2r3,supp in count_dict.items():\n",
    "            if supp < min_sup:\n",
    "                continue\n",
    "            for r4,conf in count_conf_dict[r1r2r3].items():\n",
    "                rules_3.append((r1r2r3,r4,supp,conf,e,e2))           \n",
    "        "
   ]
  },
  {
   "cell_type": "code",
   "execution_count": 13,
   "metadata": {
    "collapsed": true
   },
   "outputs": [],
   "source": [
    "rules_3.sort(key=lambda x:(x[3]*1.0)/x[2],reverse=True)"
   ]
  },
  {
   "cell_type": "code",
   "execution_count": 14,
   "metadata": {
    "collapsed": true
   },
   "outputs": [],
   "source": [
    "path_rule_3=os.path.join(mining_dir,\"mined_3_ent.pkl\")"
   ]
  },
  {
   "cell_type": "code",
   "execution_count": 15,
   "metadata": {
    "collapsed": true
   },
   "outputs": [],
   "source": [
    "utils.dump_pickle(rules_3,path_rule_3)"
   ]
  },
  {
   "cell_type": "markdown",
   "metadata": {},
   "source": [
    "## Load Len 3 rules"
   ]
  },
  {
   "cell_type": "code",
   "execution_count": 16,
   "metadata": {
    "collapsed": true
   },
   "outputs": [],
   "source": [
    "rules_3=utils.load_pickle(path_rule_3)"
   ]
  },
  {
   "cell_type": "code",
   "execution_count": 17,
   "metadata": {},
   "outputs": [
    {
     "data": {
      "text/plain": [
       "[((0, 30, 0), 0, 5, 9, 4467, 4467),\n",
       " ((0, 0, 0), 0, 5, 9, 4467, 4467),\n",
       " ((30, 0, 0), 0, 5, 9, 4467, 4467),\n",
       " ((30, 30, 0), 0, 5, 9, 4467, 4467),\n",
       " ((0, 0, 0), 0, 7, 9, 4467, 7639),\n",
       " ((0, 12, 0), 0, 4, 4, 268, 96842),\n",
       " ((0, 12, 8), 8, 4, 4, 268, 96842),\n",
       " ((0, 12, 8), 8, 4, 4, 10955, 96005),\n",
       " ((0, 12, 8), 8, 6, 6, 90199, 75683),\n",
       " ((0, 12, 8), 0, 4, 4, 16440, 73420)]"
      ]
     },
     "execution_count": 17,
     "metadata": {},
     "output_type": "execute_result"
    }
   ],
   "source": [
    "rules_3[0:10]"
   ]
  },
  {
   "cell_type": "code",
   "execution_count": null,
   "metadata": {
    "collapsed": true
   },
   "outputs": [],
   "source": []
  },
  {
   "cell_type": "code",
   "execution_count": null,
   "metadata": {
    "collapsed": true
   },
   "outputs": [],
   "source": []
  }
 ],
 "metadata": {
  "kernelspec": {
   "display_name": "Python 3",
   "language": "python",
   "name": "python3"
  },
  "language_info": {
   "codemirror_mode": {
    "name": "ipython",
    "version": 3
   },
   "file_extension": ".py",
   "mimetype": "text/x-python",
   "name": "python",
   "nbconvert_exporter": "python",
   "pygments_lexer": "ipython3",
   "version": "3.6.3"
  }
 },
 "nbformat": 4,
 "nbformat_minor": 2
}
