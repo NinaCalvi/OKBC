{
 "cells": [
  {
   "cell_type": "code",
   "execution_count": 114,
   "metadata": {
    "collapsed": true
   },
   "outputs": [],
   "source": [
    "import numpy as np\n",
    "import pickle\n",
    "import json\n",
    "import os\n",
    "import sys\n",
    "import copy\n",
    "import sklearn.preprocessing\n",
    "import models\n",
    "from sklearn.neighbors import NearestNeighbors\n",
    "import utils"
   ]
  },
  {
   "cell_type": "code",
   "execution_count": 115,
   "metadata": {},
   "outputs": [
    {
     "data": {
      "text/plain": [
       "0"
      ]
     },
     "execution_count": 115,
     "metadata": {},
     "output_type": "execute_result"
    }
   ],
   "source": [
    "data='fb15k'\n",
    "DATA_DIR = \"../../data/\"+data\n",
    "DUMP_FILE = \"../dumps/\"+data+\"_distmult_dump_norm.pkl\"\n",
    "MODEL_TYPE = data\n",
    "mining_dir=data+\"_low_thresh\"\n",
    "os.system(\"mkdir -p \"+mining_dir)"
   ]
  },
  {
   "cell_type": "code",
   "execution_count": 116,
   "metadata": {
    "collapsed": true
   },
   "outputs": [],
   "source": [
    "train_data = utils.read_data(os.path.join(DATA_DIR,\"train.txt\"))\n",
    "# dev_data = read_data(os.path.join(DATA_DIR,\"valid.txt\"))\n",
    "# test_data = read_data(os.path.join(DATA_DIR,\"test.txt\"))"
   ]
  },
  {
   "cell_type": "code",
   "execution_count": 117,
   "metadata": {},
   "outputs": [
    {
     "data": {
      "text/plain": [
       "dict_keys(['tail_rel_type', 'entity_type', 'entity_to_id', 'head_rel_type', 'entity_real', 'rel_real', 'relation_to_id'])"
      ]
     },
     "execution_count": 117,
     "metadata": {},
     "output_type": "execute_result"
    }
   ],
   "source": [
    "dump=utils.load_pickle(DUMP_FILE)\n",
    "dump.keys()"
   ]
  },
  {
   "cell_type": "code",
   "execution_count": 118,
   "metadata": {
    "collapsed": true
   },
   "outputs": [],
   "source": [
    "model=models.TypedDM(DUMP_FILE)"
   ]
  },
  {
   "cell_type": "code",
   "execution_count": 120,
   "metadata": {},
   "outputs": [],
   "source": [
    "mapped_train_data = utils.map_data(train_data,dump)\n",
    "# mapped_dev_data = map_data(dev_data)\n",
    "# mapped_test_data = map_data(test_data)"
   ]
  },
  {
   "cell_type": "code",
   "execution_count": 121,
   "metadata": {
    "collapsed": true
   },
   "outputs": [],
   "source": [
    "entity_to_rel=utils.get_ent_to_rel(mapped_train_data)"
   ]
  },
  {
   "cell_type": "code",
   "execution_count": 122,
   "metadata": {},
   "outputs": [
    {
     "name": "stdout",
     "output_type": "stream",
     "text": [
      "4296 9328 102926374\n"
     ]
    }
   ],
   "source": [
    "rules_1_path=os.path.join(mining_dir,\"1_sup=1_conf=0.pkl\")\n",
    "rules_2_path=os.path.join(mining_dir,\"2_sup=1_conf=0.pkl\")\n",
    "rules_3_path=os.path.join(mining_dir,\"3_sup=4_conf=0.pkl\")\n",
    "rules_1=utils.load_pickle(rules_1_path)\n",
    "rules_2=utils.load_pickle(rules_2_path)\n",
    "rules_3=utils.load_pickle(rules_3_path)\n",
    "print(len(rules_1),len(rules_2),len(rules_3))"
   ]
  },
  {
   "cell_type": "code",
   "execution_count": null,
   "metadata": {
    "collapsed": true
   },
   "outputs": [],
   "source": []
  },
  {
   "cell_type": "code",
   "execution_count": 123,
   "metadata": {
    "collapsed": true
   },
   "outputs": [],
   "source": [
    "def add_relation_body(rules,relation_to_body):\n",
    "    for rule in rules:\n",
    "        if rule[1] not in relation_to_body:\n",
    "            relation_to_body[rule[1]]=[]\n",
    "        relation_to_body[rule[1]].append(rule[0])\n",
    "    return relation_to_body"
   ]
  },
  {
   "cell_type": "code",
   "execution_count": null,
   "metadata": {},
   "outputs": [],
   "source": [
    "relation_to_body={}\n",
    "relation_to_body=add_relation_body(rules_1,relation_to_body)\n",
    "relation_to_body=add_relation_body(rules_2,relation_to_body)\n",
    "relation_to_body=add_relation_body(rules_3,relation_to_body)\n",
    "print(len(relation_to_body))"
   ]
  },
  {
   "cell_type": "code",
   "execution_count": 124,
   "metadata": {},
   "outputs": [
    {
     "name": "stdout",
     "output_type": "stream",
     "text": [
      "102939998\n"
     ]
    }
   ],
   "source": [
    "rules=rules_1+rules_2+rules_3\n",
    "rules.sort(key=lambda x:(x[3]*1.0)/x[2],reverse=True)\n",
    "print(len(rules))\n"
   ]
  },
  {
   "cell_type": "code",
   "execution_count": 125,
   "metadata": {},
   "outputs": [
    {
     "name": "stdout",
     "output_type": "stream",
     "text": [
      "1281\n"
     ]
    }
   ],
   "source": [
    "relation_to_body={}\n",
    "relation_to_body=add_relation_body(rules,relation_to_body)\n",
    "print(len(relation_to_body))"
   ]
  },
  {
   "cell_type": "markdown",
   "metadata": {},
   "source": [
    "# Length 1 Rules"
   ]
  },
  {
   "cell_type": "code",
   "execution_count": 126,
   "metadata": {
    "collapsed": true
   },
   "outputs": [],
   "source": [
    "dict_1=utils.get_r_e1e2_dict(mapped_train_data)"
   ]
  },
  {
   "cell_type": "markdown",
   "metadata": {},
   "source": [
    "# Length 2 Rules"
   ]
  },
  {
   "cell_type": "code",
   "execution_count": 127,
   "metadata": {
    "collapsed": true
   },
   "outputs": [],
   "source": [
    "index_head=utils.get_head_index(mapped_train_data)\n",
    "dict_2=utils.get_r1r2_e1e2_dict(mapped_train_data,index_head)"
   ]
  },
  {
   "cell_type": "markdown",
   "metadata": {},
   "source": [
    "## Length 3 Rules"
   ]
  },
  {
   "cell_type": "code",
   "execution_count": 128,
   "metadata": {
    "collapsed": true
   },
   "outputs": [],
   "source": [
    "## Gives entity in path for given relation and body"
   ]
  },
  {
   "cell_type": "code",
   "execution_count": 129,
   "metadata": {
    "collapsed": true
   },
   "outputs": [],
   "source": [
    "re2_e1=utils.get_re2_e1_dict(mapped_train_data)\n",
    "e1r_e2=utils.get_e1r_e2_dict(mapped_train_data)\n"
   ]
  },
  {
   "cell_type": "code",
   "execution_count": 130,
   "metadata": {
    "collapsed": true
   },
   "outputs": [],
   "source": [
    "set_mapped_train_data=utils.get_set_mapped_train_data(mapped_train_data)"
   ]
  },
  {
   "cell_type": "code",
   "execution_count": 131,
   "metadata": {
    "collapsed": true
   },
   "outputs": [],
   "source": [
    "def solve_3(fact,body,e1r_e2,re2_e1,set_mapped_train_data):\n",
    "    r1=body[0]\n",
    "    r2=body[1]\n",
    "    r3=body[2]\n",
    "    e1=fact[0]\n",
    "    e4=fact[2]\n",
    "    \n",
    "    key1=(e1,r1)\n",
    "    key2=(r3,e4)\n",
    "    \n",
    "    if key1 not in e1r_e2:\n",
    "        return (\"\",-1)\n",
    "    if key2 not in re2_e1:\n",
    "        return (\"\",-1)\n",
    "    list1=e1r_e2[key1]\n",
    "    list2=re2_e1[key2]\n",
    "    \n",
    "    for e2 in list1:\n",
    "        for e3 in list2:\n",
    "            if (e2,r2,e3) in set_mapped_train_data:\n",
    "                return (body,(e2,e3))\n",
    "    \n",
    "    return (\"\",-1)\n",
    "    "
   ]
  },
  {
   "cell_type": "code",
   "execution_count": 132,
   "metadata": {
    "collapsed": true
   },
   "outputs": [],
   "source": [
    "def get_explanation(fact,relation_to_body,dict_1,dict_2,e1r_e2,re2_e1,set_mapped_train_data):\n",
    "    pair=(fact[0],fact[2])\n",
    "    rel=fact[1]\n",
    "    \n",
    "    r1=0\n",
    "    r2=0\n",
    "    r3=0\n",
    "#     print(r1,r2,r3)\n",
    "    if rel not in relation_to_body:\n",
    "        return (\"\",-1)\n",
    "#     print(\"Exists\")\n",
    "    bodies=relation_to_body[rel]\n",
    "    for body in bodies:\n",
    "        if isinstance(body,int):\n",
    "            r1+=1\n",
    "            if pair not in dict_1[body]:\n",
    "                continue\n",
    "            return (body,-1)\n",
    "        else:\n",
    "            if len(body)==2:\n",
    "                r2+=1\n",
    "                if pair not in dict_2[body]:\n",
    "                    continue\n",
    "                return (body,dict_2[body][pair])\n",
    "            else:\n",
    "                r3+=1\n",
    "                temp=solve_3(fact,body,e1r_e2,re2_e1,set_mapped_train_data)\n",
    "                if(temp[0]!=\"\"):\n",
    "                    return temp\n",
    "    \n",
    "    return (\"\",-1)"
   ]
  },
  {
   "cell_type": "code",
   "execution_count": 133,
   "metadata": {
    "collapsed": true,
    "scrolled": true
   },
   "outputs": [],
   "source": [
    "# get_explanation((453,37,82),relation_to_body,dict_1,dict_2)"
   ]
  },
  {
   "cell_type": "code",
   "execution_count": 147,
   "metadata": {},
   "outputs": [],
   "source": [
    "triplet_file=\"/home/cse/btech/cs1150210/scratch/BTP/Interpretable-KBC/logs/fb15k/turk_test_hits10_not_hits1/small_id.txt\"\n",
    "data=utils.read_data(triplet_file)\n",
    "np_arr=np.array(utils.map_data(data,dump=dump)).astype(np.int32)\n",
    "# np_arr=np.loadtxt(triplet_file)"
   ]
  },
  {
   "cell_type": "code",
   "execution_count": 148,
   "metadata": {},
   "outputs": [],
   "source": [
    "arr=[]\n",
    "coun=0\n",
    "for line in np_arr:\n",
    "    fact=(int(line[0]),int(line[1]),int(line[2]))\n",
    "    arr.append(get_explanation(fact,relation_to_body,dict_1,dict_2,e1r_e2,re2_e1,set_mapped_train_data))\n",
    "    coun+=1\n"
   ]
  },
  {
   "cell_type": "code",
   "execution_count": 149,
   "metadata": {},
   "outputs": [
    {
     "name": "stdout",
     "output_type": "stream",
     "text": [
      "148\n"
     ]
    }
   ],
   "source": [
    "# print(arr)\n",
    "count=0\n",
    "for x in arr:\n",
    "    if x[0]!=\"\":\n",
    "        count+=1\n",
    "print(count)"
   ]
  },
  {
   "cell_type": "code",
   "execution_count": 150,
   "metadata": {},
   "outputs": [
    {
     "name": "stdout",
     "output_type": "stream",
     "text": [
      "[((13, 13, 75), (5093, 3977)), ((3, 444, 13), (829, 3111)), ((52, 35, 290), (207, 1516)), ((3, 13, 13), (1115, 5093)), ((17, 337, 20), (35, 3394)), ((3, 13, 13), (608, 661)), ((3, 13, 24), (2697, 7558)), ((38, 22, 38), (2272, 644)), ((77, 202, 431), (4954, 3521)), ((3, 13, 3), (126, 1900)), ((30, 32, 94), (391, 8249)), ((3, 13, 3), (8773, 3402)), ((3, 13, 3), (3650, 826)), ((3, 13, 13), (9748, 12809)), ((265, 70, 843), (7085, 12287)), ((3, 3, 61), (2639, 6354)), ((167, 7, 9), (839, 9618)), ((13, 13, 13), (9535, 1458)), ((3, 13, 13), (3410, 3465)), ((37, 11, 19), (1944, 4212)), ((12, 674, 105), (295, 1785)), ((11, 10, 11), (4205, 1749)), ((6, 58, 34), (11042, 2547)), ((31, 52, 35), (4846, 1271)), ((22, 38, 13), (4789, 2540)), ((91, 294, 28), (13581, 177)), ((15, 136, 69), (2059, 211)), ((58, 6, 117), (5558, 1137)), ((3, 13, 3), (1240, 944)), ((32, 30, 32), (668, 230)), ((181, 25, 181), (6400, 1836)), ((15, 136, 15), (4937, 334)), ((3, 13, 67), (4921, 6585)), ((45, 272, 45), (8464, 2482)), ((32, 30, 32), (286, 338)), ((9, 212, 13), (6339, 11313)), ((9, 7, 37), (4040, 7105)), ((30, 32, 142), (338, 1193)), ((15, 136, 104), (508, 163)), ((32, 30, 32), (1105, 230)), ((91, 37, 79), (4539, 2265)), ((6, 467, 28), (2672, 58)), ((7, 9, 20), (4560, 6308)), ((32, 30, 32), (668, 1462)), ((9, 7, 13), (3599, 2223)), ((43, 91, 202), (101, 4964)), ((3, 13, 3), (1673, 4033)), ((58, 6, 117), (983, 8128)), ((7, 128, 7), (5664, 468)), ((30, 32, 13), (3549, 5113)), ((11, 10, 11), (1329, 134)), ((43, 91, 154), (403, 996)), ((3, 444, 13), (6681, 2304)), ((22, 38, 3), (1202, 2928)), ((174, 513, 281), (5394, 10522)), ((9, 7, 200), (1715, 5263)), ((3, 13, 3), (9448, 6647)), ((59, 260, 59), (1280, 3076)), ((7, 98, 20), (1589, 3454)), ((2, 184, 54), (4849, 269)), ((39, 94, 94), (8125, 8063)), ((32, 30, 32), (2122, 1462)), ((27, 26, 164), (419, 2213)), ((3, 13, 61), (2316, 4560)), ((10, 26, 13), (273, 11104)), ((3, 444, 3), (1360, 8831)), ((3, 13, 13), (2540, 5042)), ((35, 19, 61), (4046, 6945)), ((154, 257), 657), ((32, 30, 32), (668, 230)), ((181, 202, 289), (331, 2667)), ((24, 129, 39), (1474, 9163)), ((32, 30, 32), (9618, 7548)), ((28, 23, 28), (14423, 6490)), ((9, 7, 200), (7475, 2075)), ((146, 15, 69), (2539, 211)), ('', -1), ('', -1), ((5, 138, 5), (11, 17)), ((3, 13, 164), (5543, 7358)), ((3, 13, 13), (7231, 5100)), ((32, 30, 32), (693, 681)), ((14, 335, 124), (3624, 278)), ((118, 206, 135), (581, 2260)), ((24, 129, 39), (8957, 7448)), ((15, 136, 15), (2059, 335)), ((10, 26, 200), (429, 3619)), ((30, 32, 84), (230, 3166)), ((6, 58, 105), (6169, 1413)), ((28, 23, 105), (5358, 808)), ((13, 13, 13), (3581, 9117)), ((10, 11, 196), (1871, 1644)), ((15, 136, 156), (1212, 2990)), ((15, 136, 104), (902, 2539)), ((0, 108, 299), (8571, 58)), ((30, 32, 119), (391, 10425)), ((32, 30, 32), (747, 651)), ((15, 136, 69), (3314, 185)), ((0, 108, 323), (1, 1063)), ((2, 184, 54), (2487, 1316))]\n"
     ]
    }
   ],
   "source": [
    "print(arr[0:100])"
   ]
  },
  {
   "cell_type": "code",
   "execution_count": 151,
   "metadata": {
    "collapsed": true
   },
   "outputs": [],
   "source": [
    "path=os.path.join(mining_dir,\"explanation_test_hits10_not_hits1.pkl\")\n",
    "utils.dump_pickle(arr,path)"
   ]
  },
  {
   "cell_type": "code",
   "execution_count": 152,
   "metadata": {},
   "outputs": [
    {
     "name": "stdout",
     "output_type": "stream",
     "text": [
      "150 150\n"
     ]
    }
   ],
   "source": [
    "print(len(np_arr),len(arr))"
   ]
  },
  {
   "cell_type": "code",
   "execution_count": 34,
   "metadata": {
    "collapsed": true
   },
   "outputs": [],
   "source": [
    "lol=utils.load_pickle(path)"
   ]
  },
  {
   "cell_type": "code",
   "execution_count": 35,
   "metadata": {},
   "outputs": [
    {
     "name": "stdout",
     "output_type": "stream",
     "text": [
      "150\n",
      "[('', -1), ('', -1), ('', -1), ('', -1), ('', -1), ('', -1), ((3, 13, 24), (2697, 7558)), ('', -1), ('', -1), ('', -1), ('', -1), ('', -1), ('', -1), ('', -1), ('', -1), ('', -1), ('', -1), ('', -1), ('', -1), ('', -1), ((12, 674, 105), (295, 1785)), ((11, 10, 11), (4205, 1749)), ('', -1), ((31, 52, 35), (4846, 1271)), ('', -1), ('', -1), ((15, 136, 69), (2059, 211)), ((58, 6, 117), (5558, 1137)), ('', -1), ('', -1), ((181, 25, 181), (6400, 1836)), ((15, 136, 15), (4937, 334)), ('', -1), ((45, 272, 45), (8464, 2482)), ('', -1), ('', -1), ('', -1), ('', -1), ((15, 136, 104), (508, 163)), ('', -1), ('', -1), ('', -1), ('', -1), ('', -1), ('', -1), ('', -1), ('', -1), ((58, 6, 117), (983, 8128)), ('', -1), ('', -1), ((11, 10, 11), (1329, 134)), ('', -1), ('', -1), ('', -1), ('', -1), ('', -1), ('', -1), ('', -1), ('', -1), ((2, 184, 54), (4849, 269)), ('', -1), ('', -1), ((27, 26, 164), (419, 2213)), ('', -1), ('', -1), ('', -1), ('', -1), ('', -1), ((154, 257), 657), ('', -1), ('', -1), ('', -1), ('', -1), ('', -1), ('', -1), ('', -1), ('', -1), ('', -1), ((5, 138, 5), (11, 17)), ('', -1), ('', -1), ('', -1), ('', -1), ((118, 206, 135), (581, 2260)), ('', -1), ((15, 136, 15), (2059, 335)), ('', -1), ('', -1), ('', -1), ('', -1), ('', -1), ('', -1), ((15, 136, 156), (1212, 2990)), ((15, 136, 104), (902, 2539)), ('', -1), ('', -1), ('', -1), ((15, 136, 69), (3314, 185)), ((0, 108, 323), (1, 1063)), ((2, 184, 54), (2487, 1316))]\n"
     ]
    }
   ],
   "source": [
    "print(len(lol))\n",
    "print(lol[0:100])"
   ]
  },
  {
   "cell_type": "code",
   "execution_count": null,
   "metadata": {
    "collapsed": true
   },
   "outputs": [],
   "source": []
  }
 ],
 "metadata": {
  "kernelspec": {
   "display_name": "Python 3",
   "language": "python",
   "name": "python3"
  },
  "language_info": {
   "codemirror_mode": {
    "name": "ipython",
    "version": 3
   },
   "file_extension": ".py",
   "mimetype": "text/x-python",
   "name": "python",
   "nbconvert_exporter": "python",
   "pygments_lexer": "ipython3",
   "version": "3.6.8"
  }
 },
 "nbformat": 4,
 "nbformat_minor": 2
}
