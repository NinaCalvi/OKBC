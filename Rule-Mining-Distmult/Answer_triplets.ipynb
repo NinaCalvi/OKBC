{
 "cells": [
  {
   "cell_type": "code",
   "execution_count": 1,
   "metadata": {},
   "outputs": [],
   "source": [
    "import numpy as np\n",
    "import pickle\n",
    "import json\n",
    "import os\n",
    "import sys\n",
    "import copy\n",
    "import sklearn.preprocessing\n",
    "import models\n",
    "from sklearn.neighbors import NearestNeighbors\n",
    "import utils"
   ]
  },
  {
   "cell_type": "code",
   "execution_count": 2,
   "metadata": {},
   "outputs": [
    {
     "data": {
      "text/plain": [
       "0"
      ]
     },
     "execution_count": 2,
     "metadata": {},
     "output_type": "execute_result"
    }
   ],
   "source": [
    "data='fb15k'\n",
    "DATA_DIR = \"../../data/\"+data\n",
    "DUMP_FILE = \"../dumps/\"+data+\"_distmult_dump_norm.pkl\"\n",
    "MODEL_TYPE = data\n",
    "# mining_dir=data+\"_low_thresh\"\n",
    "mining_dir=data+\"_rule_mining_tmp\"\n",
    "os.system(\"mkdir -p \"+mining_dir)"
   ]
  },
  {
   "cell_type": "code",
   "execution_count": 3,
   "metadata": {},
   "outputs": [],
   "source": [
    "train_data = utils.read_data(os.path.join(DATA_DIR,\"train.txt\"))\n",
    "# dev_data = read_data(os.path.join(DATA_DIR,\"valid.txt\"))\n",
    "# test_data = read_data(os.path.join(DATA_DIR,\"test.txt\"))"
   ]
  },
  {
   "cell_type": "code",
   "execution_count": 4,
   "metadata": {},
   "outputs": [
    {
     "data": {
      "text/plain": [
       "dict_keys(['tail_rel_type', 'entity_type', 'entity_to_id', 'head_rel_type', 'entity_real', 'rel_real', 'relation_to_id'])"
      ]
     },
     "execution_count": 4,
     "metadata": {},
     "output_type": "execute_result"
    }
   ],
   "source": [
    "dump=utils.load_pickle(DUMP_FILE)\n",
    "dump.keys()"
   ]
  },
  {
   "cell_type": "code",
   "execution_count": 5,
   "metadata": {},
   "outputs": [],
   "source": [
    "model=models.TypedDM(DUMP_FILE)"
   ]
  },
  {
   "cell_type": "code",
   "execution_count": 6,
   "metadata": {},
   "outputs": [],
   "source": [
    "mapped_train_data = utils.map_data(train_data,dump)\n",
    "# mapped_dev_data = map_data(dev_data)\n",
    "# mapped_test_data = map_data(test_data)"
   ]
  },
  {
   "cell_type": "code",
   "execution_count": 7,
   "metadata": {},
   "outputs": [],
   "source": [
    "entity_to_rel=utils.get_ent_to_rel(mapped_train_data)"
   ]
  },
  {
   "cell_type": "code",
   "execution_count": 8,
   "metadata": {},
   "outputs": [
    {
     "name": "stdout",
     "output_type": "stream",
     "text": [
      "4296 9328 102926374\n"
     ]
    }
   ],
   "source": [
    "rules_1_path=os.path.join(mining_dir,\"1_sup=1_conf=0.pkl\")\n",
    "rules_2_path=os.path.join(mining_dir,\"2_sup=1_conf=0.pkl\")\n",
    "rules_3_path=os.path.join(mining_dir,\"3_sup=4_conf=0.pkl\")\n",
    "rules_1=utils.load_pickle(rules_1_path)\n",
    "rules_2=utils.load_pickle(rules_2_path)\n",
    "rules_3=utils.load_pickle(rules_3_path)\n",
    "print(len(rules_1),len(rules_2),len(rules_3))"
   ]
  },
  {
   "cell_type": "code",
   "execution_count": 9,
   "metadata": {},
   "outputs": [],
   "source": [
    "# print(rules_1[0])\n",
    "# print(rules_2[0])\n",
    "# print(rules_3[0])"
   ]
  },
  {
   "cell_type": "code",
   "execution_count": 10,
   "metadata": {},
   "outputs": [],
   "source": [
    "def add_relation_body(rules,relation_to_body):\n",
    "    for rule in rules:\n",
    "        if rule[1] not in relation_to_body:\n",
    "            relation_to_body[rule[1]]=[]\n",
    "        relation_to_body[rule[1]].append(rule[0])\n",
    "    return relation_to_body"
   ]
  },
  {
   "cell_type": "code",
   "execution_count": 11,
   "metadata": {},
   "outputs": [],
   "source": [
    "# relation_to_body={}\n",
    "# relation_to_body=add_relation_body(rules_1,relation_to_body)\n",
    "# relation_to_body=add_relation_body(rules_2,relation_to_body)\n",
    "# relation_to_body=add_relation_body(rules_3,relation_to_body)\n",
    "# print(len(relation_to_body))\n"
   ]
  },
  {
   "cell_type": "code",
   "execution_count": 25,
   "metadata": {},
   "outputs": [
    {
     "name": "stdout",
     "output_type": "stream",
     "text": [
      "[((1230, 43, 91), 914, 3590, 1), ((1291, 43, 91), 764, 3590, 1), ((1291, 43, 91), 864, 3590, 1), ((1291, 43, 91), 217, 3590, 1), ((1291, 43, 91), 23, 3590, 1), ((1291, 43, 91), 446, 3590, 1), ((1291, 43, 91), 648, 3590, 1), ((1291, 43, 91), 236, 3590, 1), ((1291, 43, 91), 943, 3590, 1), ((1291, 43, 91), 1291, 3590, 1), ((1291, 43, 91), 114, 3590, 1), ((1291, 43, 91), 1291, 3590, 1), ((1291, 43, 91), 28, 3590, 1), ((1291, 43, 91), 303, 3590, 1), ((1291, 43, 91), 943, 3590, 1), ((1291, 43, 91), 1291, 3590, 1), ((402, 1087, 91), 402, 3590, 1), ((1292, 43, 91), 23, 3590, 1), ((1292, 43, 91), 691, 3590, 1), ((1292, 43, 91), 1205, 3590, 1), ((47, 1087, 91), 490, 3590, 1), ((47, 1087, 91), 490, 3590, 1), ((1297, 43, 91), 41, 3590, 1), ((1297, 43, 91), 154, 3590, 1), ((1297, 43, 91), 149, 3590, 1), ((1297, 43, 91), 305, 3590, 1), ((1297, 43, 91), 1297, 3590, 1), ((1298, 43, 91), 294, 3590, 1), ((1298, 43, 91), 154, 3590, 1), ((1299, 43, 91), 294, 3590, 1), ((1299, 43, 91), 154, 3590, 1), ((1104, 43, 91), 290, 3590, 1), ((1104, 43, 91), 196, 3590, 1), ((1104, 43, 91), 209, 3590, 1), ((1104, 43, 91), 1104, 3590, 1), ((1154, 43, 91), 62, 3590, 1), ((1154, 43, 91), 119, 3590, 1), ((1154, 43, 91), 1154, 3590, 1), ((1103, 43, 91), 294, 3590, 1), ((1103, 43, 91), 543, 3590, 1), ((1103, 43, 91), 1113, 3590, 1), ((1103, 43, 91), 271, 3590, 1), ((1103, 43, 91), 1103, 3590, 1), ((1103, 43, 91), 164, 3590, 1), ((951, 43, 91), 951, 3590, 1), ((1303, 43, 91), 42, 3590, 1), ((1303, 43, 91), 727, 3590, 1), ((1303, 43, 91), 1303, 3590, 1), ((1303, 43, 91), 119, 3590, 1), ((1303, 43, 91), 71, 3590, 1), ((1265, 43, 91), 128, 3590, 1), ((1265, 43, 91), 1265, 3590, 1), ((1265, 43, 91), 148, 3590, 1), ((1265, 43, 91), 42, 3590, 1), ((564, 1087, 91), 56, 3590, 1), ((564, 1087, 91), 227, 3590, 1), ((564, 1087, 91), 7, 3590, 1), ((564, 1087, 91), 209, 3590, 1), ((91, 1069, 91), 1093, 3590, 1), ((1314, 43, 91), 1314, 3590, 1), ((1314, 43, 91), 274, 3590, 1), ((1314, 43, 91), 659, 3590, 1), ((1314, 43, 91), 933, 3590, 1), ((1314, 43, 91), 417, 3590, 1), ((1316, 43, 91), 369, 3590, 1), ((1316, 43, 91), 1316, 3590, 1), ((1316, 43, 91), 26, 3590, 1), ((1316, 43, 91), 369, 3590, 1), ((1316, 43, 91), 1316, 3590, 1), ((1316, 43, 91), 1316, 3590, 1), ((1316, 43, 91), 465, 3590, 1), ((1316, 43, 91), 26, 3590, 1), ((1316, 43, 91), 126, 3590, 1), ((1316, 43, 91), 1316, 3590, 1), ((1316, 43, 91), 465, 3590, 1), ((1316, 43, 91), 11, 3590, 1), ((1321, 43, 91), 1321, 3590, 1), ((1321, 43, 91), 164, 3590, 1), ((1321, 43, 91), 786, 3590, 1), ((1324, 43, 91), 1324, 3590, 1), ((1325, 43, 91), 942, 3590, 1), ((1325, 43, 91), 1325, 3590, 1), ((1030, 43, 91), 36, 3590, 1), ((1030, 43, 91), 1030, 3590, 1), ((74, 1069, 91), 971, 3590, 1), ((74, 1069, 91), 771, 3590, 1), ((74, 1069, 91), 498, 3590, 1), ((74, 1069, 91), 830, 3590, 1), ((361, 1087, 91), 361, 3590, 1), ((1330, 43, 91), 1330, 3590, 1), ((1332, 43, 91), 7, 3590, 1), ((1332, 43, 91), 184, 3590, 1), ((1332, 43, 91), 1332, 3590, 1), ((1289, 43, 91), 1289, 3590, 1), ((1339, 43, 91), 1339, 3590, 1), ((1339, 43, 91), 555, 3590, 1), ((1339, 43, 91), 523, 3590, 1), ((717, 43, 91), 129, 3590, 1), ((717, 43, 91), 717, 3590, 1), ((91, 1117, 91), 1093, 3590, 1)]\n"
     ]
    }
   ],
   "source": [
    "# print(rules_1[4])\n",
    "# print(rules_2[4])\n",
    "print(rules_3[-100:])"
   ]
  },
  {
   "cell_type": "code",
   "execution_count": null,
   "metadata": {},
   "outputs": [
    {
     "name": "stdout",
     "output_type": "stream",
     "text": [
      "102939998\n"
     ]
    }
   ],
   "source": [
    "_ = [rules.sort(key=lambda x:(x[3]*1.0)/x[2],reverse=True) for rules in [rules_1, rules_2, rules_3]]\n",
    "rules=rules_1+rules_2+rules_3\n",
    "print(len(rules))\n"
   ]
  },
  {
   "cell_type": "code",
   "execution_count": null,
   "metadata": {},
   "outputs": [
    {
     "name": "stdout",
     "output_type": "stream",
     "text": [
      "1281\n"
     ]
    }
   ],
   "source": [
    "relation_to_body={}\n",
    "relation_to_body=add_relation_body(rules,relation_to_body)\n",
    "print(len(relation_to_body))"
   ]
  },
  {
   "cell_type": "markdown",
   "metadata": {},
   "source": [
    "# Length 1 Rules"
   ]
  },
  {
   "cell_type": "code",
   "execution_count": null,
   "metadata": {},
   "outputs": [],
   "source": [
    "dict_1=utils.get_r_e1e2_dict(mapped_train_data)"
   ]
  },
  {
   "cell_type": "markdown",
   "metadata": {},
   "source": [
    "# Length 2 Rules"
   ]
  },
  {
   "cell_type": "code",
   "execution_count": null,
   "metadata": {},
   "outputs": [],
   "source": [
    "index_head=utils.get_head_index(mapped_train_data)\n",
    "dict_2=utils.get_r1r2_e1e2_dict(mapped_train_data,index_head)"
   ]
  },
  {
   "cell_type": "markdown",
   "metadata": {},
   "source": [
    "## Length 3 Rules"
   ]
  },
  {
   "cell_type": "code",
   "execution_count": null,
   "metadata": {},
   "outputs": [],
   "source": [
    "## Gives entity in path for given relation and body"
   ]
  },
  {
   "cell_type": "code",
   "execution_count": null,
   "metadata": {},
   "outputs": [],
   "source": [
    "re2_e1=utils.get_re2_e1_dict(mapped_train_data)\n",
    "e1r_e2=utils.get_e1r_e2_dict(mapped_train_data)\n"
   ]
  },
  {
   "cell_type": "code",
   "execution_count": null,
   "metadata": {},
   "outputs": [],
   "source": [
    "set_mapped_train_data=utils.get_set_mapped_train_data(mapped_train_data)"
   ]
  },
  {
   "cell_type": "code",
   "execution_count": null,
   "metadata": {},
   "outputs": [],
   "source": [
    "def solve_3(fact,body,e1r_e2,re2_e1,set_mapped_train_data):\n",
    "    r1=body[0]\n",
    "    r2=body[1]\n",
    "    r3=body[2]\n",
    "    e1=fact[0]\n",
    "    e4=fact[2]\n",
    "    \n",
    "    key1=(e1,r1)\n",
    "    key2=(r3,e4)\n",
    "    \n",
    "    if key1 not in e1r_e2:\n",
    "        return (\"\",-1)\n",
    "    if key2 not in re2_e1:\n",
    "        return (\"\",-1)\n",
    "    list1=e1r_e2[key1]\n",
    "    list2=re2_e1[key2]\n",
    "    \n",
    "    for e2 in list1:\n",
    "        for e3 in list2:\n",
    "            if (e2,r2,e3) in set_mapped_train_data:\n",
    "                return (body,(e2,e3))\n",
    "    \n",
    "    return (\"\",-1)\n",
    "    "
   ]
  },
  {
   "cell_type": "code",
   "execution_count": null,
   "metadata": {},
   "outputs": [],
   "source": [
    "def get_explanation(fact,relation_to_body,dict_1,dict_2,e1r_e2,re2_e1,set_mapped_train_data):\n",
    "    pair=(fact[0],fact[2])\n",
    "    rel=fact[1]\n",
    "    \n",
    "    r1=0\n",
    "    r2=0\n",
    "    r3=0\n",
    "#     print(r1,r2,r3)\n",
    "    if rel not in relation_to_body:\n",
    "        return (\"\",-1)\n",
    "#     print(\"Exists\")\n",
    "    bodies=relation_to_body[rel]\n",
    "    for body in bodies:\n",
    "        if isinstance(body,int):\n",
    "            r1+=1\n",
    "            if pair not in dict_1[body]:\n",
    "                continue\n",
    "            return (body,-1)\n",
    "        else:\n",
    "            if len(body)==2:\n",
    "                r2+=1\n",
    "                if pair not in dict_2[body]:\n",
    "                    continue\n",
    "                return (body,dict_2[body][pair])\n",
    "            else:\n",
    "                if len(body)==3:\n",
    "                    r3+=1\n",
    "                    temp=solve_3(fact,body,e1r_e2,re2_e1,set_mapped_train_data)\n",
    "                    if(temp[0]!=\"\"):\n",
    "                        return temp\n",
    "    \n",
    "    return (\"\",-1)"
   ]
  },
  {
   "cell_type": "code",
   "execution_count": null,
   "metadata": {
    "scrolled": true
   },
   "outputs": [],
   "source": [
    "# get_explanation((453,37,82),relation_to_body,dict_1,dict_2)"
   ]
  },
  {
   "cell_type": "code",
   "execution_count": null,
   "metadata": {},
   "outputs": [],
   "source": [
    "#triplet_file=\"/home/cse/btech/cs1150210/scratch/BTP/Interpretable-KBC/logs/fb15k/turk_test_hits10_not_hits1/small_id.txt\"\n",
    "# triplet_file=\"/home/yatin/hpcscratch/Aman_BTP/Interpretable-KBC-tlp/data/fb15k/test/test_hits_1_ordered_x.txt\"\n",
    "triplet_file=\"/home/yatin/hpcscratch_copy/texkbc/Interpretable-KBC-tlp/data/fb15k/test/test_hits1_x.txt\"\n",
    "data=utils.read_data(triplet_file)\n",
    "np_arr=np.array(utils.map_data(data,dump=dump)).astype(np.int32)\n",
    "# np_arr=np.loadtxt(triplet_file)"
   ]
  },
  {
   "cell_type": "code",
   "execution_count": null,
   "metadata": {},
   "outputs": [],
   "source": [
    "arr=[]\n",
    "coun=0\n",
    "for line in np_arr:\n",
    "    fact=(int(line[0]),int(line[1]),int(line[2]))\n",
    "    arr.append(get_explanation(fact,relation_to_body,dict_1,dict_2,e1r_e2,re2_e1,set_mapped_train_data))\n",
    "    coun+=1\n"
   ]
  },
  {
   "cell_type": "code",
   "execution_count": null,
   "metadata": {},
   "outputs": [],
   "source": [
    "# print(arr)\n",
    "count=0\n",
    "for x in arr:\n",
    "    if x[0]!=\"\":\n",
    "        count+=1\n",
    "print(count)"
   ]
  },
  {
   "cell_type": "code",
   "execution_count": null,
   "metadata": {},
   "outputs": [],
   "source": [
    "print(arr[0:100])"
   ]
  },
  {
   "cell_type": "code",
   "execution_count": null,
   "metadata": {},
   "outputs": [],
   "source": [
    "# path=os.path.join(mining_dir,\"explanation_test_hits10_not_hits1.pkl\")\n",
    "path=os.path.join(mining_dir,\"explanation_test.pkl\")\n",
    "utils.dump_pickle(arr,path)"
   ]
  },
  {
   "cell_type": "code",
   "execution_count": 34,
   "metadata": {},
   "outputs": [
    {
     "name": "stdout",
     "output_type": "stream",
     "text": [
      "131 131\n"
     ]
    }
   ],
   "source": [
    "print(len(np_arr),len(arr))"
   ]
  },
  {
   "cell_type": "code",
   "execution_count": 35,
   "metadata": {},
   "outputs": [],
   "source": [
    "lol=utils.load_pickle(path)"
   ]
  },
  {
   "cell_type": "code",
   "execution_count": 36,
   "metadata": {},
   "outputs": [
    {
     "name": "stdout",
     "output_type": "stream",
     "text": [
      "131\n",
      "[((114, 128, 7), (9902, 3719)), ((7, 9, 52), (500, 11085)), ((7, 9, 44), (3674, 361)), ((3, 13, 30), (608, 3435)), ((181, 25, 181), (1684, 1156)), ((32, 30, 32), (4678, 230)), ((64, 53, 3), (6214, 2951)), ((252, 390, 289), (3629, 2507)), ((7, 98, 21), (1337, 12819)), ((30, 32, 84), (230, 648)), ((3, 13, 61), (3887, 12317)), ((43, 91, 195), (101, 914)), ((3, 3, 164), (7717, 6289)), ((23, 28, 132), (4004, 546)), ((4, 5, 171), (10, 3417)), ((2, 184, 54), (973, 6412)), ((1, 225, 210), (2098, 3094)), ((6, 58, 34), (9183, 1313)), (240, -1), ((7, 128, 52), (3089, 4063)), ((16, 27, 26), (975, 10616)), ((11, 10, 72), (250, 21)), ((138, 261, 138), (3872, 2616)), ((9, 7, 9), (2969, 1561)), ((15, 136, 186), (4703, 211)), ((30, 32, 165), (1104, 4797)), ((10, 11, 53), (273, 4098)), ((84, 230, 342), (58, 1278)), ((7, 98, 20), (4300, 1642)), ((7, 98, 50), (420, 4987)), ((181, 25, 219), (3143, 1683)), ((13, 13, 358), (5810, 4177)), ((38, 22, 38), (5029, 5030)), ((9, 52, 35), (9286, 1094)), ((397, 336, 397), (9043, 6152)), ((629, 79, 164), (13459, 12480)), ((43, 91, 476), (101, 9157)), ((3, 13, 22), (2796, 3067)), ((200, 285, 181), (3663, 1836)), ((9, 7, 30), (2596, 1980)), ((3, 13, 165), (4524, 10604)), ((3, 13, 61), (7955, 4177)), ((3, 13, 61), (9240, 6291)), ((9, 7, 22), (4800, 10340)), ((3, 3, 9), (4161, 9791)), ((23, 28, 202), (58, 8830)), ((7, 9, 10), (8377, 7333)), ((14, 335, 674), (3276, 58)), ((11, 19, 3), (7883, 11163)), ((35, 19, 9), (8409, 1676)), ((27, 26, 164), (57, 8551)), ((30, 32, 80), (651, 8180)), ((5, 138, 261), (1372, 10)), ((23, 28, 326), (58, 3951)), ((4, 5, 171), (17, 757)), ((3, 13, 61), (6332, 12646)), ((7, 9, 52), (8136, 8137)), ((30, 32, 119), (667, 5044)), ((61, 44, 2), (3531, 103)), ((106, 44, 2), (3062, 129)), ((16, 27, 26), (8691, 4313)), ((77, 202, 285), (4487, 3770)), ((4, 5, 8), (174, 905)), ((181, 25, 181), (2573, 1156)), ((22, 38, 269), (47, 2405)), ((3, 13, 61), (7627, 1744)), ((5, 138, 261), (1372, 9)), (789, -1), ((7, 128, 48), (2521, 5883)), ((311, 30, 32), (4057, 2226)), ((7, 128, 21), (467, 896)), ((349, 101), 466), ((7, 9, 7), (11812, 8739)), (177, -1), ((52, 35, 7), (253, 9208)), ((23, 28, 28), (706, 3194)), ((14, 393, 49), (3239, 1144)), ((23, 28, 105), (1587, 3891)), ((7, 9, 52), (1127, 1126)), ((9, 53, 71), (3508, 938)), ((43, 91, 204), (101, 8338)), ((9, 7, 30), (978, 218)), ('', -1), ((7, 128, 52), (4560, 8850)), ((140, 22, 38), (11483, 2458)), ((13, 13, 269), (4921, 9464)), ((11, 10, 11), (3783, 791)), ((11, 10, 26), (1020, 682)), ((4, 5, 8), (17, 1154)), ((14, 335, 124), (1053, 314)), ((554, 641, 554), (10570, 10571)), ((37, 26, 98), (134, 10405)), ((103, 113, 140), (859, 3322)), ((27, 26, 13), (3065, 7158)), ((80, 47, 61), (3253, 697)), ((53, 164, 79), (745, 1252)), (240, -1), ((3, 13, 61), (4067, 3050)), ((30, 32, 9), (230, 5876)), ((22, 38, 63), (285, 6415))]\n"
     ]
    }
   ],
   "source": [
    "print(len(lol))\n",
    "print(lol[0:100])"
   ]
  },
  {
   "cell_type": "code",
   "execution_count": 21,
   "metadata": {},
   "outputs": [],
   "source": [
    "# -----------------------------------------------------------\n",
    "# Mayank\n",
    "# To do analysis of rules1 vs rules2 vs rules3\n",
    "relation_to_body_1={}\n",
    "relation_to_body_1=add_relation_body(rules_1,relation_to_body_1)\n",
    "\n",
    "relation_to_body_2={}\n",
    "relation_to_body_2=add_relation_body(rules_2,relation_to_body_2)\n",
    "\n",
    "relation_to_body_3={}\n",
    "relation_to_body_3=add_relation_body(rules_3,relation_to_body_3)"
   ]
  },
  {
   "cell_type": "code",
   "execution_count": 22,
   "metadata": {},
   "outputs": [
    {
     "ename": "NameError",
     "evalue": "name 'np_arr' is not defined",
     "output_type": "error",
     "traceback": [
      "\u001b[0;31m---------------------------------------------------------------------------\u001b[0m",
      "\u001b[0;31mNameError\u001b[0m                                 Traceback (most recent call last)",
      "\u001b[0;32m<ipython-input-22-0256703a9dc6>\u001b[0m in \u001b[0;36m<module>\u001b[0;34m\u001b[0m\n\u001b[1;32m      5\u001b[0m \u001b[0marr_3\u001b[0m\u001b[0;34m=\u001b[0m\u001b[0;34m[\u001b[0m\u001b[0;34m]\u001b[0m\u001b[0;34m\u001b[0m\u001b[0;34m\u001b[0m\u001b[0m\n\u001b[1;32m      6\u001b[0m \u001b[0mcoun_3\u001b[0m\u001b[0;34m=\u001b[0m\u001b[0;36m0\u001b[0m\u001b[0;34m\u001b[0m\u001b[0;34m\u001b[0m\u001b[0m\n\u001b[0;32m----> 7\u001b[0;31m \u001b[0;32mfor\u001b[0m \u001b[0mline\u001b[0m \u001b[0;32min\u001b[0m \u001b[0mnp_arr\u001b[0m\u001b[0;34m:\u001b[0m\u001b[0;34m\u001b[0m\u001b[0;34m\u001b[0m\u001b[0m\n\u001b[0m\u001b[1;32m      8\u001b[0m     \u001b[0mfact\u001b[0m\u001b[0;34m=\u001b[0m\u001b[0;34m(\u001b[0m\u001b[0mint\u001b[0m\u001b[0;34m(\u001b[0m\u001b[0mline\u001b[0m\u001b[0;34m[\u001b[0m\u001b[0;36m0\u001b[0m\u001b[0;34m]\u001b[0m\u001b[0;34m)\u001b[0m\u001b[0;34m,\u001b[0m\u001b[0mint\u001b[0m\u001b[0;34m(\u001b[0m\u001b[0mline\u001b[0m\u001b[0;34m[\u001b[0m\u001b[0;36m1\u001b[0m\u001b[0;34m]\u001b[0m\u001b[0;34m)\u001b[0m\u001b[0;34m,\u001b[0m\u001b[0mint\u001b[0m\u001b[0;34m(\u001b[0m\u001b[0mline\u001b[0m\u001b[0;34m[\u001b[0m\u001b[0;36m2\u001b[0m\u001b[0;34m]\u001b[0m\u001b[0;34m)\u001b[0m\u001b[0;34m)\u001b[0m\u001b[0;34m\u001b[0m\u001b[0;34m\u001b[0m\u001b[0m\n\u001b[1;32m      9\u001b[0m     \u001b[0marr_1\u001b[0m\u001b[0;34m.\u001b[0m\u001b[0mappend\u001b[0m\u001b[0;34m(\u001b[0m\u001b[0mget_explanation\u001b[0m\u001b[0;34m(\u001b[0m\u001b[0mfact\u001b[0m\u001b[0;34m,\u001b[0m\u001b[0mrelation_to_body_1\u001b[0m\u001b[0;34m,\u001b[0m\u001b[0mdict_1\u001b[0m\u001b[0;34m,\u001b[0m\u001b[0mdict_2\u001b[0m\u001b[0;34m,\u001b[0m\u001b[0me1r_e2\u001b[0m\u001b[0;34m,\u001b[0m\u001b[0mre2_e1\u001b[0m\u001b[0;34m,\u001b[0m\u001b[0mset_mapped_train_data\u001b[0m\u001b[0;34m)\u001b[0m\u001b[0;34m)\u001b[0m\u001b[0;34m\u001b[0m\u001b[0;34m\u001b[0m\u001b[0m\n",
      "\u001b[0;31mNameError\u001b[0m: name 'np_arr' is not defined"
     ]
    }
   ],
   "source": [
    "arr_1=[]\n",
    "coun_1=0\n",
    "arr_2=[]\n",
    "coun_2=0\n",
    "arr_3=[]\n",
    "coun_3=0\n",
    "for line in np_arr:\n",
    "    fact=(int(line[0]),int(line[1]),int(line[2]))\n",
    "    arr_1.append(get_explanation(fact,relation_to_body_1,dict_1,dict_2,e1r_e2,re2_e1,set_mapped_train_data))\n",
    "    coun_1+=1\n",
    "    arr_2.append(get_explanation(fact,relation_to_body_2,dict_1,dict_2,e1r_e2,re2_e1,set_mapped_train_data))\n",
    "    coun_2+=1\n",
    "    arr_3.append(get_explanation(fact,relation_to_body_3,dict_1,dict_2,e1r_e2,re2_e1,set_mapped_train_data))\n",
    "    coun_3+=1"
   ]
  },
  {
   "cell_type": "code",
   "execution_count": 54,
   "metadata": {},
   "outputs": [],
   "source": [
    "path=os.path.join(mining_dir,\"explanation_test_1.pkl\")\n",
    "utils.dump_pickle(arr_1,path)\n",
    "path=os.path.join(mining_dir,\"explanation_test_2.pkl\")\n",
    "utils.dump_pickle(arr_2,path)\n",
    "path=os.path.join(mining_dir,\"explanation_test_3.pkl\")\n",
    "utils.dump_pickle(arr_3,path)"
   ]
  }
 ],
 "metadata": {
  "kernelspec": {
   "display_name": "Python 3",
   "language": "python",
   "name": "python3"
  },
  "language_info": {
   "codemirror_mode": {
    "name": "ipython",
    "version": 3
   },
   "file_extension": ".py",
   "mimetype": "text/x-python",
   "name": "python",
   "nbconvert_exporter": "python",
   "pygments_lexer": "ipython3",
   "version": "3.7.4"
  }
 },
 "nbformat": 4,
 "nbformat_minor": 2
}
