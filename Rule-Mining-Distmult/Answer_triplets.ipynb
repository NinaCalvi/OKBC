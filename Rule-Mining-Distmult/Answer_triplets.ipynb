{
 "cells": [
  {
   "cell_type": "code",
   "execution_count": 14,
   "metadata": {
    "collapsed": true
   },
   "outputs": [],
   "source": [
    "import numpy as np\n",
    "import pickle\n",
    "import json\n",
    "import os\n",
    "import sys\n",
    "import copy\n",
    "import sklearn.preprocessing\n",
    "import models\n",
    "from sklearn.neighbors import NearestNeighbors\n",
    "import utils"
   ]
  },
  {
   "cell_type": "code",
   "execution_count": 2,
   "metadata": {
    "collapsed": true
   },
   "outputs": [],
   "source": [
    "DATA_DIR = \"../../data/fb15k/\"\n",
    "DUMP_FILE = \"../dumps/fb15k_distmult_dump_norm.pkl\"\n",
    "MODEL_TYPE = \"distmult\""
   ]
  },
  {
   "cell_type": "code",
   "execution_count": 3,
   "metadata": {
    "collapsed": true
   },
   "outputs": [],
   "source": [
    "train_data = utils.read_data(os.path.join(DATA_DIR,\"train.txt\"))\n",
    "# dev_data = read_data(os.path.join(DATA_DIR,\"valid.txt\"))\n",
    "# test_data = read_data(os.path.join(DATA_DIR,\"test.txt\"))"
   ]
  },
  {
   "cell_type": "code",
   "execution_count": 4,
   "metadata": {},
   "outputs": [
    {
     "data": {
      "text/plain": [
       "dict_keys(['tail_rel_type', 'entity_type', 'entity_to_id', 'head_rel_type', 'entity_real', 'rel_real', 'relation_to_id'])"
      ]
     },
     "execution_count": 4,
     "metadata": {},
     "output_type": "execute_result"
    }
   ],
   "source": [
    "dump=utils.load_pickle(DUMP_FILE)\n",
    "dump.keys()"
   ]
  },
  {
   "cell_type": "code",
   "execution_count": 5,
   "metadata": {
    "collapsed": true
   },
   "outputs": [],
   "source": [
    "model=models.TypedDM(DUMP_FILE)"
   ]
  },
  {
   "cell_type": "code",
   "execution_count": 6,
   "metadata": {
    "collapsed": true
   },
   "outputs": [],
   "source": [
    "mapped_train_data = utils.map_data(train_data,dump)\n",
    "# mapped_dev_data = map_data(dev_data)\n",
    "# mapped_test_data = map_data(test_data)"
   ]
  },
  {
   "cell_type": "code",
   "execution_count": 7,
   "metadata": {
    "collapsed": true
   },
   "outputs": [],
   "source": [
    "entity_to_rel=utils.get_ent_to_rel(mapped_train_data)"
   ]
  },
  {
   "cell_type": "code",
   "execution_count": 30,
   "metadata": {
    "collapsed": true
   },
   "outputs": [],
   "source": [
    "rules_1_path=\"./pruned_rules_1.pkl\"\n",
    "rules_2_path=\"./pruned_rules_2.pkl\"\n",
    "rules_1=utils.load_pickle(rules_1_path)\n",
    "rules_2=utils.load_pickle(rules_2_path)"
   ]
  },
  {
   "cell_type": "code",
   "execution_count": 9,
   "metadata": {
    "collapsed": true
   },
   "outputs": [],
   "source": [
    "def add_relation_body(rules,relation_to_body):\n",
    "    for rule in rules:\n",
    "        if rule[1] not in relation_to_body:\n",
    "            relation_to_body[rule[1]]=[]\n",
    "        relation_to_body[rule[1]].append(rule[0])\n",
    "    return relation_to_body"
   ]
  },
  {
   "cell_type": "code",
   "execution_count": 31,
   "metadata": {},
   "outputs": [],
   "source": [
    "relation_to_body={}\n",
    "relation_to_body=add_relation_body(rules_1,relation_to_body)\n",
    "relation_to_body=add_relation_body(rules_2,relation_to_body)\n",
    "# print(relation_to_body)"
   ]
  },
  {
   "cell_type": "markdown",
   "metadata": {},
   "source": [
    "# Length 1 Rules"
   ]
  },
  {
   "cell_type": "code",
   "execution_count": 15,
   "metadata": {},
   "outputs": [],
   "source": [
    "dict_1=utils.get_r_e1e2_dict(mapped_train_data)"
   ]
  },
  {
   "cell_type": "markdown",
   "metadata": {},
   "source": [
    "# Length 2 Rules"
   ]
  },
  {
   "cell_type": "code",
   "execution_count": 17,
   "metadata": {
    "collapsed": true
   },
   "outputs": [],
   "source": [
    "index_head=utils.get_head_index(mapped_train_data)\n",
    "dict_2=utils.get_r1r2_e1e2_dict(mapped_train_data,index_head)"
   ]
  },
  {
   "cell_type": "code",
   "execution_count": 18,
   "metadata": {
    "collapsed": true
   },
   "outputs": [],
   "source": [
    "def get_explanation(fact,relation_to_body,dict_1,dict_2):\n",
    "    pair=(fact[0],fact[2])\n",
    "    rel=fact[1]\n",
    "    \n",
    "    if rel not in relation_to_body:\n",
    "        return 0\n",
    "    bodies=relation_to_body[rel]\n",
    "    for body in bodies:\n",
    "        if isinstance(body,int):\n",
    "            if pair not in dict_1[body]:\n",
    "                return 0\n",
    "            return (body,-1)\n",
    "        else:\n",
    "            if pair not in dict_2[body]:\n",
    "                return 0\n",
    "            return (body,dict_2[body][pair])"
   ]
  },
  {
   "cell_type": "code",
   "execution_count": 20,
   "metadata": {
    "scrolled": true
   },
   "outputs": [
    {
     "data": {
      "text/plain": [
       "0"
      ]
     },
     "execution_count": 20,
     "metadata": {},
     "output_type": "execute_result"
    }
   ],
   "source": [
    "# get_explanation((453,37,82),relation_to_body,dict_1,dict_2)"
   ]
  },
  {
   "cell_type": "code",
   "execution_count": 24,
   "metadata": {
    "collapsed": true
   },
   "outputs": [],
   "source": [
    "np_arr=np.loadtxt(\"../../prachi/kbi/kbi-pytorch/hits_1_test_fb15k\")"
   ]
  },
  {
   "cell_type": "code",
   "execution_count": 39,
   "metadata": {},
   "outputs": [],
   "source": [
    "arr=[]\n",
    "for line in np_arr:\n",
    "#     print(line)\n",
    "    fact=(int(line[0]),int(line[1]),int(line[2]))\n",
    "    arr.append(get_explanation(fact,relation_to_body,dict_1,dict_2))\n",
    "#     print(fact)"
   ]
  },
  {
   "cell_type": "code",
   "execution_count": 40,
   "metadata": {},
   "outputs": [
    {
     "name": "stdout",
     "output_type": "stream",
     "text": [
      "1510\n"
     ]
    }
   ],
   "source": [
    "# print(arr)\n",
    "count=0\n",
    "for x in arr:\n",
    "    if x!=0:\n",
    "        count+=1\n",
    "print(count)"
   ]
  },
  {
   "cell_type": "code",
   "execution_count": null,
   "metadata": {
    "collapsed": true
   },
   "outputs": [],
   "source": []
  }
 ],
 "metadata": {
  "kernelspec": {
   "display_name": "Python 3",
   "language": "python",
   "name": "python3"
  },
  "language_info": {
   "codemirror_mode": {
    "name": "ipython",
    "version": 3
   },
   "file_extension": ".py",
   "mimetype": "text/x-python",
   "name": "python",
   "nbconvert_exporter": "python",
   "pygments_lexer": "ipython3",
   "version": "3.6.3"
  }
 },
 "nbformat": 4,
 "nbformat_minor": 2
}
