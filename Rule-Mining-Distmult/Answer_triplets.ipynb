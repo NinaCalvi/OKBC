{
 "cells": [
  {
   "cell_type": "code",
   "execution_count": 1,
   "metadata": {
    "collapsed": true
   },
   "outputs": [],
   "source": [
    "import numpy as np\n",
    "import pickle\n",
    "import json\n",
    "import os\n",
    "import sys\n",
    "import copy\n",
    "import sklearn.preprocessing\n",
    "import models\n",
    "from sklearn.neighbors import NearestNeighbors\n",
    "import utils"
   ]
  },
  {
   "cell_type": "code",
   "execution_count": 2,
   "metadata": {
    "collapsed": true
   },
   "outputs": [],
   "source": [
    "DATA_DIR = \"../../data/fb15k/\"\n",
    "DUMP_FILE = \"../dumps/fb15k_distmult_dump_norm.pkl\"\n",
    "MODEL_TYPE = \"fb15k\"\n",
    "mining_dir='mined/'"
   ]
  },
  {
   "cell_type": "code",
   "execution_count": 3,
   "metadata": {
    "collapsed": true
   },
   "outputs": [],
   "source": [
    "train_data = utils.read_data(os.path.join(DATA_DIR,\"train.txt\"))\n",
    "# dev_data = read_data(os.path.join(DATA_DIR,\"valid.txt\"))\n",
    "# test_data = read_data(os.path.join(DATA_DIR,\"test.txt\"))"
   ]
  },
  {
   "cell_type": "code",
   "execution_count": 4,
   "metadata": {},
   "outputs": [
    {
     "data": {
      "text/plain": [
       "dict_keys(['tail_rel_type', 'entity_type', 'entity_to_id', 'head_rel_type', 'entity_real', 'rel_real', 'relation_to_id'])"
      ]
     },
     "execution_count": 4,
     "metadata": {},
     "output_type": "execute_result"
    }
   ],
   "source": [
    "dump=utils.load_pickle(DUMP_FILE)\n",
    "dump.keys()"
   ]
  },
  {
   "cell_type": "code",
   "execution_count": 5,
   "metadata": {
    "collapsed": true
   },
   "outputs": [],
   "source": [
    "model=models.TypedDM(DUMP_FILE)"
   ]
  },
  {
   "cell_type": "code",
   "execution_count": 6,
   "metadata": {
    "collapsed": true
   },
   "outputs": [],
   "source": [
    "mapped_train_data = utils.map_data(train_data,dump)\n",
    "# mapped_dev_data = map_data(dev_data)\n",
    "# mapped_test_data = map_data(test_data)"
   ]
  },
  {
   "cell_type": "code",
   "execution_count": 7,
   "metadata": {
    "collapsed": true
   },
   "outputs": [],
   "source": [
    "entity_to_rel=utils.get_ent_to_rel(mapped_train_data)"
   ]
  },
  {
   "cell_type": "code",
   "execution_count": 8,
   "metadata": {},
   "outputs": [
    {
     "name": "stdout",
     "output_type": "stream",
     "text": [
      "3869 1836 31394553\n"
     ]
    }
   ],
   "source": [
    "rules_1_path=os.path.join(mining_dir,\"pruned_rules_1.pkl\")\n",
    "rules_2_path=os.path.join(mining_dir,\"pruned_rules_2.pkl\")\n",
    "rules_3_path=os.path.join(mining_dir,\"mined_3_ent.pkl\")\n",
    "rules_1=utils.load_pickle(rules_1_path)\n",
    "rules_2=utils.load_pickle(rules_2_path)\n",
    "rules_3=utils.load_pickle(rules_3_path)\n",
    "print(len(rules_1),len(rules_2),len(rules_3))"
   ]
  },
  {
   "cell_type": "code",
   "execution_count": null,
   "metadata": {
    "collapsed": true
   },
   "outputs": [],
   "source": []
  },
  {
   "cell_type": "code",
   "execution_count": 9,
   "metadata": {
    "collapsed": true
   },
   "outputs": [],
   "source": [
    "def add_relation_body(rules,relation_to_body):\n",
    "    for rule in rules:\n",
    "        if rule[1] not in relation_to_body:\n",
    "            relation_to_body[rule[1]]=[]\n",
    "        relation_to_body[rule[1]].append(rule[0])\n",
    "    return relation_to_body"
   ]
  },
  {
   "cell_type": "code",
   "execution_count": 10,
   "metadata": {},
   "outputs": [
    {
     "name": "stdout",
     "output_type": "stream",
     "text": [
      "1234\n"
     ]
    }
   ],
   "source": [
    "relation_to_body={}\n",
    "relation_to_body=add_relation_body(rules_1,relation_to_body)\n",
    "relation_to_body=add_relation_body(rules_2,relation_to_body)\n",
    "relation_to_body=add_relation_body(rules_3,relation_to_body)\n",
    "print(len(relation_to_body))"
   ]
  },
  {
   "cell_type": "markdown",
   "metadata": {},
   "source": [
    "# Length 1 Rules"
   ]
  },
  {
   "cell_type": "code",
   "execution_count": 11,
   "metadata": {
    "collapsed": true
   },
   "outputs": [],
   "source": [
    "dict_1=utils.get_r_e1e2_dict(mapped_train_data)"
   ]
  },
  {
   "cell_type": "markdown",
   "metadata": {},
   "source": [
    "# Length 2 Rules"
   ]
  },
  {
   "cell_type": "code",
   "execution_count": 12,
   "metadata": {
    "collapsed": true
   },
   "outputs": [],
   "source": [
    "index_head=utils.get_head_index(mapped_train_data)\n",
    "dict_2=utils.get_r1r2_e1e2_dict(mapped_train_data,index_head)"
   ]
  },
  {
   "cell_type": "markdown",
   "metadata": {},
   "source": [
    "## Length 3 Rules"
   ]
  },
  {
   "cell_type": "code",
   "execution_count": 13,
   "metadata": {
    "collapsed": true
   },
   "outputs": [],
   "source": [
    "## Gives entity in path for given relation and body"
   ]
  },
  {
   "cell_type": "code",
   "execution_count": 14,
   "metadata": {
    "collapsed": true
   },
   "outputs": [],
   "source": [
    "re2_e1=utils.get_re2_e1_dict(mapped_train_data)\n",
    "e1r_e2=utils.get_e1r_e2_dict(mapped_train_data)\n"
   ]
  },
  {
   "cell_type": "code",
   "execution_count": 15,
   "metadata": {
    "collapsed": true
   },
   "outputs": [],
   "source": [
    "set_mapped_train_data=utils.get_set_mapped_train_data(mapped_train_data)"
   ]
  },
  {
   "cell_type": "code",
   "execution_count": 16,
   "metadata": {
    "collapsed": true
   },
   "outputs": [],
   "source": [
    "def solve_3(fact,body,e1r_e2,re2_e1,set_mapped_train_data):\n",
    "    r1=body[0]\n",
    "    r2=body[1]\n",
    "    r3=body[2]\n",
    "    e1=fact[0]\n",
    "    e4=fact[2]\n",
    "    \n",
    "    key1=(e1,r1)\n",
    "    key2=(r3,e4)\n",
    "    \n",
    "    if key1 not in e1r_e2:\n",
    "        return (\"\",-1)\n",
    "    if key2 not in re2_e1:\n",
    "        return (\"\",-1)\n",
    "    list1=e1r_e2[key1]\n",
    "    list2=re2_e1[key2]\n",
    "    \n",
    "    for e2 in list1:\n",
    "        for e3 in list2:\n",
    "            if (e2,r2,e3) in set_mapped_train_data:\n",
    "                return (body,(e2,e3))\n",
    "    \n",
    "    return (\"\",-1)\n",
    "    "
   ]
  },
  {
   "cell_type": "code",
   "execution_count": 17,
   "metadata": {
    "collapsed": true
   },
   "outputs": [],
   "source": [
    "def get_explanation(fact,relation_to_body,dict_1,dict_2,e1r_e2,re2_e1,set_mapped_train_data):\n",
    "    pair=(fact[0],fact[2])\n",
    "    rel=fact[1]\n",
    "    \n",
    "    if rel not in relation_to_body:\n",
    "        return (\"\",-1)\n",
    "    bodies=relation_to_body[rel]\n",
    "    for body in bodies:\n",
    "        if isinstance(body,int):\n",
    "            if pair not in dict_1[body]:\n",
    "                continue\n",
    "            return (body,-1)\n",
    "        else:\n",
    "            if len(body)==2:\n",
    "                if pair not in dict_2[body]:\n",
    "                    continue\n",
    "                return (body,dict_2[body][pair])\n",
    "            else:\n",
    "                return solve_3(fact,body,e1r_e2,re2_e1,set_mapped_train_data)                \n",
    "\n",
    "    return (\"\",-1)"
   ]
  },
  {
   "cell_type": "code",
   "execution_count": 18,
   "metadata": {
    "collapsed": true,
    "scrolled": true
   },
   "outputs": [],
   "source": [
    "# get_explanation((453,37,82),relation_to_body,dict_1,dict_2)"
   ]
  },
  {
   "cell_type": "code",
   "execution_count": 19,
   "metadata": {
    "collapsed": true
   },
   "outputs": [],
   "source": [
    "triplet_file=\"../logs/fb15k/turk_test_kl/test_hits_1_id_small.txt\"\n",
    "data=utils.read_data(triplet_file)\n",
    "np_arr=np.array(utils.map_data(data,dump=dump)).astype(np.int32)\n",
    "# np_arr=np.loadtxt(triplet_file)"
   ]
  },
  {
   "cell_type": "code",
   "execution_count": 20,
   "metadata": {
    "collapsed": true
   },
   "outputs": [],
   "source": [
    "arr=[]\n",
    "for line in np_arr:\n",
    "#     print(line)\n",
    "    fact=(int(line[0]),int(line[1]),int(line[2]))\n",
    "    arr.append(get_explanation(fact,relation_to_body,dict_1,dict_2,e1r_e2,re2_e1,set_mapped_train_data))\n",
    "#     print(fact)"
   ]
  },
  {
   "cell_type": "code",
   "execution_count": 21,
   "metadata": {},
   "outputs": [
    {
     "name": "stdout",
     "output_type": "stream",
     "text": [
      "167\n"
     ]
    }
   ],
   "source": [
    "# print(arr)\n",
    "count=0\n",
    "for x in arr:\n",
    "    if x[0]!=\"\":\n",
    "        count+=1\n",
    "print(count)"
   ]
  },
  {
   "cell_type": "code",
   "execution_count": 22,
   "metadata": {
    "collapsed": true
   },
   "outputs": [],
   "source": [
    "path=os.path.join(mining_dir,\"explanation_123_kl.pkl\")\n",
    "utils.dump_pickle(arr,path)"
   ]
  },
  {
   "cell_type": "code",
   "execution_count": 23,
   "metadata": {},
   "outputs": [
    {
     "name": "stdout",
     "output_type": "stream",
     "text": [
      "300 300\n"
     ]
    }
   ],
   "source": [
    "print(len(np_arr),len(arr))"
   ]
  },
  {
   "cell_type": "code",
   "execution_count": 24,
   "metadata": {
    "collapsed": true
   },
   "outputs": [],
   "source": [
    "lol=utils.load_pickle(path)"
   ]
  },
  {
   "cell_type": "code",
   "execution_count": null,
   "metadata": {
    "collapsed": true
   },
   "outputs": [],
   "source": [
    "print(len(lol))\n",
    "print(lol[0:100])"
   ]
  },
  {
   "cell_type": "code",
   "execution_count": null,
   "metadata": {
    "collapsed": true
   },
   "outputs": [],
   "source": []
  }
 ],
 "metadata": {
  "kernelspec": {
   "display_name": "Python 3",
   "language": "python",
   "name": "python3"
  },
  "language_info": {
   "codemirror_mode": {
    "name": "ipython",
    "version": 3
   },
   "file_extension": ".py",
   "mimetype": "text/x-python",
   "name": "python",
   "nbconvert_exporter": "python",
   "pygments_lexer": "ipython3",
   "version": "3.6.3"
  }
 },
 "nbformat": 4,
 "nbformat_minor": 2
}
