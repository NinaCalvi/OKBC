{
 "cells": [
  {
   "cell_type": "code",
   "execution_count": 89,
   "metadata": {
    "collapsed": true
   },
   "outputs": [],
   "source": [
    "import numpy as np\n",
    "import pickle\n",
    "import json\n",
    "import os\n",
    "import sys\n",
    "import copy\n",
    "import sklearn.preprocessing\n",
    "import models\n",
    "from sklearn.neighbors import NearestNeighbors\n",
    "import utils"
   ]
  },
  {
   "cell_type": "code",
   "execution_count": 90,
   "metadata": {
    "collapsed": true
   },
   "outputs": [],
   "source": [
    "DATA_DIR = \"../../data/fb15k/\"\n",
    "DUMP_FILE = \"../dumps/fb15k_distmult_dump_norm.pkl\"\n",
    "MODEL_TYPE = \"distmult\"\n",
    "mining_dir='mined'"
   ]
  },
  {
   "cell_type": "code",
   "execution_count": 91,
   "metadata": {
    "collapsed": true
   },
   "outputs": [],
   "source": [
    "train_data = utils.read_data(os.path.join(DATA_DIR,\"train.txt\"))\n",
    "# dev_data = read_data(os.path.join(DATA_DIR,\"valid.txt\"))\n",
    "# test_data = read_data(os.path.join(DATA_DIR,\"test.txt\"))"
   ]
  },
  {
   "cell_type": "code",
   "execution_count": 92,
   "metadata": {},
   "outputs": [
    {
     "data": {
      "text/plain": [
       "dict_keys(['tail_rel_type', 'entity_type', 'entity_to_id', 'head_rel_type', 'entity_real', 'rel_real', 'relation_to_id'])"
      ]
     },
     "execution_count": 92,
     "metadata": {},
     "output_type": "execute_result"
    }
   ],
   "source": [
    "dump=utils.load_pickle(DUMP_FILE)\n",
    "dump.keys()"
   ]
  },
  {
   "cell_type": "code",
   "execution_count": 93,
   "metadata": {
    "collapsed": true
   },
   "outputs": [],
   "source": [
    "model=models.TypedDM(DUMP_FILE)"
   ]
  },
  {
   "cell_type": "code",
   "execution_count": 94,
   "metadata": {
    "collapsed": true
   },
   "outputs": [],
   "source": [
    "mapped_train_data = utils.map_data(train_data,dump)\n",
    "# mapped_dev_data = map_data(dev_data)\n",
    "# mapped_test_data = map_data(test_data)"
   ]
  },
  {
   "cell_type": "code",
   "execution_count": 95,
   "metadata": {
    "collapsed": true
   },
   "outputs": [],
   "source": [
    "entity_to_rel=utils.get_ent_to_rel(mapped_train_data)"
   ]
  },
  {
   "cell_type": "code",
   "execution_count": 111,
   "metadata": {},
   "outputs": [
    {
     "name": "stdout",
     "output_type": "stream",
     "text": [
      "3869 1836\n"
     ]
    }
   ],
   "source": [
    "rules_1_path=os.path.join(mining_dir,\"pruned_rules_1.pkl\")\n",
    "rules_2_path=os.path.join(mining_dir,\"pruned_rules_2.pkl\")\n",
    "rules_1=utils.load_pickle(rules_1_path)\n",
    "rules_2=utils.load_pickle(rules_2_path)\n",
    "print(len(rules_1),len(rules_2))"
   ]
  },
  {
   "cell_type": "code",
   "execution_count": 125,
   "metadata": {
    "collapsed": true
   },
   "outputs": [],
   "source": [
    "def add_relation_body(rules,relation_to_body):\n",
    "    for rule in rules:\n",
    "        if rule[1] not in relation_to_body:\n",
    "            relation_to_body[rule[1]]=[]\n",
    "        relation_to_body[rule[1]].append(rule[0])\n",
    "    return relation_to_body"
   ]
  },
  {
   "cell_type": "code",
   "execution_count": 126,
   "metadata": {},
   "outputs": [
    {
     "name": "stdout",
     "output_type": "stream",
     "text": [
      "919\n"
     ]
    }
   ],
   "source": [
    "relation_to_body={}\n",
    "relation_to_body=add_relation_body(rules_1,relation_to_body)\n",
    "relation_to_body=add_relation_body(rules_2,relation_to_body)\n",
    "print(len(relation_to_body))"
   ]
  },
  {
   "cell_type": "markdown",
   "metadata": {},
   "source": [
    "# Length 1 Rules"
   ]
  },
  {
   "cell_type": "code",
   "execution_count": 127,
   "metadata": {
    "collapsed": true
   },
   "outputs": [],
   "source": [
    "dict_1=utils.get_r_e1e2_dict(mapped_train_data)"
   ]
  },
  {
   "cell_type": "markdown",
   "metadata": {},
   "source": [
    "# Length 2 Rules"
   ]
  },
  {
   "cell_type": "code",
   "execution_count": 128,
   "metadata": {
    "collapsed": true
   },
   "outputs": [],
   "source": [
    "index_head=utils.get_head_index(mapped_train_data)\n",
    "dict_2=utils.get_r1r2_e1e2_dict(mapped_train_data,index_head)"
   ]
  },
  {
   "cell_type": "code",
   "execution_count": 129,
   "metadata": {
    "collapsed": true
   },
   "outputs": [],
   "source": [
    "def get_explanation(fact,relation_to_body,dict_1,dict_2):\n",
    "    pair=(fact[0],fact[2])\n",
    "    rel=fact[1]\n",
    "    \n",
    "    if rel not in relation_to_body:\n",
    "        return (\"\",-1)\n",
    "    bodies=relation_to_body[rel]\n",
    "    for body in bodies:\n",
    "        if isinstance(body,int):\n",
    "            if pair not in dict_1[body]:\n",
    "                continue\n",
    "            return (body,-1)\n",
    "        else:\n",
    "            if pair not in dict_2[body]:\n",
    "                continue\n",
    "            return (body,dict_2[body][pair])\n",
    "    return (\"\",-1)"
   ]
  },
  {
   "cell_type": "code",
   "execution_count": 130,
   "metadata": {
    "collapsed": true,
    "scrolled": true
   },
   "outputs": [],
   "source": [
    "# get_explanation((453,37,82),relation_to_body,dict_1,dict_2)"
   ]
  },
  {
   "cell_type": "code",
   "execution_count": 145,
   "metadata": {},
   "outputs": [],
   "source": [
    "triplet_file=\"../logs/fb15k/turk_test/test_hits_1_id_small.txt\"\n",
    "data=utils.read_data(triplet_file)\n",
    "np_arr=np.array(utils.map_data(data,dump=dump)).astype(np.int32)\n",
    "# np_arr=np.loadtxt(triplet_file)"
   ]
  },
  {
   "cell_type": "code",
   "execution_count": 146,
   "metadata": {
    "collapsed": true
   },
   "outputs": [],
   "source": [
    "arr=[]\n",
    "for line in np_arr:\n",
    "#     print(line)\n",
    "    fact=(int(line[0]),int(line[1]),int(line[2]))\n",
    "    arr.append(get_explanation(fact,relation_to_body,dict_1,dict_2))\n",
    "#     print(fact)"
   ]
  },
  {
   "cell_type": "code",
   "execution_count": 147,
   "metadata": {},
   "outputs": [
    {
     "name": "stdout",
     "output_type": "stream",
     "text": [
      "85\n"
     ]
    }
   ],
   "source": [
    "# print(arr)\n",
    "count=0\n",
    "for x in arr:\n",
    "    if x[0]!=\"\":\n",
    "        count+=1\n",
    "print(count)"
   ]
  },
  {
   "cell_type": "code",
   "execution_count": 148,
   "metadata": {
    "collapsed": true
   },
   "outputs": [],
   "source": [
    "path=\"./mined/explanation.pkl\"\n",
    "utils.dump_pickle(arr,path)"
   ]
  },
  {
   "cell_type": "code",
   "execution_count": 149,
   "metadata": {},
   "outputs": [
    {
     "name": "stdout",
     "output_type": "stream",
     "text": [
      "200 200\n"
     ]
    }
   ],
   "source": [
    "print(len(np_arr),len(arr))"
   ]
  },
  {
   "cell_type": "code",
   "execution_count": 138,
   "metadata": {
    "collapsed": true
   },
   "outputs": [],
   "source": [
    "lol=utils.load_pickle(path)"
   ]
  },
  {
   "cell_type": "code",
   "execution_count": 140,
   "metadata": {},
   "outputs": [
    {
     "name": "stdout",
     "output_type": "stream",
     "text": [
      "37871\n",
      "[(164, -1), ('', -1), ('', -1), (164, -1), ('', -1), ('', -1), (61, -1), (4, -1), ('', -1), ('', -1), (173, -1), (278, -1), ('', -1), (28, -1), (42, -1), ('', -1), ('', -1), ('', -1), ('', -1), (291, -1), (164, -1), (473, -1), (280, -1), ('', -1), ('', -1), ('', -1), ('', -1), ('', -1), ('', -1), ('', -1), ('', -1), ('', -1), ('', -1), ('', -1), ('', -1), ('', -1), (64, -1), (64, -1), (970, -1), ('', -1), ('', -1), ('', -1), ('', -1), (345, -1), ('', -1), ('', -1), ('', -1), ('', -1), (23, -1), (64, -1), ('', -1), ('', -1), (164, -1), (50, -1), (50, -1), (44, -1), ('', -1), (10, -1), ('', -1), (184, -1), ('', -1), (420, -1), ('', -1), ('', -1), (305, -1), ('', -1), ('', -1), ('', -1), (98, -1), ('', -1), (53, -1), ('', -1), ('', -1), (53, -1), (61, -1), (61, -1), (119, -1), ('', -1), ('', -1), ('', -1), ('', -1), (461, -1), ('', -1), ('', -1), ('', -1), ('', -1), ('', -1), ('', -1), ('', -1), ((37, 11), 1871), ('', -1), (437, -1), ('', -1), (50, -1), (35, -1), (99, -1), ('', -1), ('', -1), (212, -1), (128, -1)]\n"
     ]
    }
   ],
   "source": [
    "print(len(lol))\n",
    "print(lol[0:100])"
   ]
  },
  {
   "cell_type": "code",
   "execution_count": null,
   "metadata": {
    "collapsed": true
   },
   "outputs": [],
   "source": []
  }
 ],
 "metadata": {
  "kernelspec": {
   "display_name": "Python 3",
   "language": "python",
   "name": "python3"
  },
  "language_info": {
   "codemirror_mode": {
    "name": "ipython",
    "version": 3
   },
   "file_extension": ".py",
   "mimetype": "text/x-python",
   "name": "python",
   "nbconvert_exporter": "python",
   "pygments_lexer": "ipython3",
   "version": "3.6.3"
  }
 },
 "nbformat": 4,
 "nbformat_minor": 2
}
